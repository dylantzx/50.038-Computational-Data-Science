{
  "nbformat": 4,
  "nbformat_minor": 0,
  "metadata": {
    "interpreter": {
      "hash": "f98d74dfb5b1c8d8a210bfbef9987017a0fff68a56687bafce354ff2c11e0f6f"
    },
    "kernelspec": {
      "display_name": "Python 3",
      "language": "python",
      "name": "python3"
    },
    "language_info": {
      "codemirror_mode": {
        "name": "ipython",
        "version": 3
      },
      "file_extension": ".py",
      "mimetype": "text/x-python",
      "name": "python",
      "nbconvert_exporter": "python",
      "pygments_lexer": "ipython3",
      "version": "3.7.6"
    },
    "colab": {
      "name": "Lab 8 - LSTM.ipynb",
      "provenance": [],
      "collapsed_sections": []
    }
  },
  "cells": [
    {
      "cell_type": "markdown",
      "metadata": {
        "id": "77i9ieFM94yP"
      },
      "source": [
        "## Load the IMDB dataset and create the vocabulary"
      ]
    },
    {
      "cell_type": "code",
      "metadata": {
        "id": "6Ggf4N_R94yV",
        "colab": {
          "base_uri": "https://localhost:8080/"
        },
        "outputId": "e80fbfe2-519d-4b23-f921-272f5c8701e4"
      },
      "source": [
        "from torchtext.datasets import IMDB\n",
        "from torchtext.data.utils import get_tokenizer\n",
        "from collections import Counter, OrderedDict\n",
        "from torchtext.vocab import vocab\n",
        "\n",
        "EMBEDDING_DIM=50\n",
        "VOCAB_SIZE=20000\n",
        "\n",
        "# Get IMDB dataset\n",
        "imdb = IMDB(split='train')\n",
        "\n",
        "# Load English tokenizer, tagger, parser and NER\n",
        "tokenizer = get_tokenizer('spacy', language='en')\n",
        "\n",
        "# build the vocab\n",
        "counter = Counter()\n",
        "for i, (label, line) in enumerate(imdb):\n",
        "    counter.update(tokenizer(line))\n",
        "\n",
        "ordered_dict = OrderedDict(counter.most_common()[:VOCAB_SIZE])\n",
        "vocab = vocab(ordered_dict)\n",
        "\n",
        "# insert special tokens and set default index to 'unknown'\n",
        "vocab.insert_token('<PAD>', 0)\n",
        "vocab.insert_token('<UNK>', 1)\n",
        "vocab.set_default_index(1)"
      ],
      "execution_count": 1,
      "outputs": [
        {
          "output_type": "stream",
          "name": "stderr",
          "text": [
            "100%|██████████| 84.1M/84.1M [00:03<00:00, 27.9MB/s]\n"
          ]
        }
      ]
    },
    {
      "cell_type": "markdown",
      "metadata": {
        "id": "r2LLCzIg94yY"
      },
      "source": [
        "## Create embedding vectors from GloVe"
      ]
    },
    {
      "cell_type": "code",
      "metadata": {
        "id": "pB709Lfe94yZ",
        "colab": {
          "base_uri": "https://localhost:8080/"
        },
        "outputId": "befa594d-bdf1-46be-e75d-a19c7773f27e"
      },
      "source": [
        "import torchtext as text\n",
        "\n",
        "# load glove embeddings\n",
        "vec = text.vocab.GloVe(name='6B', dim=50)\n",
        "# create the embedding matrix, a torch tensor in the shape (num_words+1, embedding_dim)\n",
        "word_emb = vec.get_vecs_by_tokens(vocab.get_itos())"
      ],
      "execution_count": 2,
      "outputs": [
        {
          "output_type": "stream",
          "name": "stderr",
          "text": [
            ".vector_cache/glove.6B.zip: 862MB [02:49, 5.07MB/s]                           \n",
            "100%|█████████▉| 399999/400000 [00:12<00:00, 32797.42it/s]\n"
          ]
        }
      ]
    },
    {
      "cell_type": "markdown",
      "metadata": {
        "id": "gpyRthiD94yZ"
      },
      "source": [
        "## Build up train/test dataset"
      ]
    },
    {
      "cell_type": "code",
      "metadata": {
        "id": "Mi3n_D0B94ya"
      },
      "source": [
        "from torch.nn.utils.rnn import pad_sequence\n",
        "import torch\n",
        "from torch.utils.data import DataLoader\n",
        "from torchtext.data.functional import to_map_style_dataset\n",
        "\n",
        "device = torch.device(\"cuda\" if torch.cuda.is_available() else \"cpu\")\n",
        "# transform input text and label to ids\n",
        "def process_text(text):\n",
        "    return vocab(tokenizer(text))\n",
        "\n",
        "label_to_ids = {'pos':0, 'neg':1}\n",
        "\n",
        "def collate_batch(batch):\n",
        "    label_list, text_list, lengths = [], [], []\n",
        "    for (_label, _text) in batch:\n",
        "        label_list.append(label_to_ids[_label])\n",
        "        processed_text = torch.tensor(process_text(_text), dtype=torch.int64)\n",
        "        text_list.append(processed_text)\n",
        "        lengths.append(processed_text.size(0))\n",
        "\n",
        "    # label must be in the same size as target\n",
        "    label_list = torch.tensor(label_list, dtype=torch.float)[:,None]\n",
        "\n",
        "    text_list = pad_sequence(text_list, batch_first=True)\n",
        "\n",
        "    lengths = torch.tensor(lengths, dtype=torch.long)\n",
        "\n",
        "    # Prepare mask\n",
        "    last_indices = torch.sub(lengths,1) # subtract 1 from lengths since the index starts from 0\n",
        "\n",
        "    batch_size = text_list.size()[0]\n",
        "    seq_len = text_list.size()[1]\n",
        "    mask = torch.zeros(batch_size, seq_len , 1)\n",
        "\n",
        "    rows = torch.arange(0, batch_size).long()\n",
        "    mask[rows, last_indices, :] = 1\n",
        "\n",
        "    return label_list.to(device), text_list.to(device), lengths.to(device), mask.to(device)\n",
        "\n",
        "train_iter, test_iter = IMDB()\n",
        "\n",
        "# transform datasets iterator into map style so that they can be repeatedly loaded in a new epoch\n",
        "train_dataset = to_map_style_dataset(train_iter)\n",
        "test_dataset = to_map_style_dataset(test_iter)\n",
        "\n",
        "train_dataloader = DataLoader(train_dataset, batch_size=128,\n",
        "                              shuffle=True, collate_fn=collate_batch)\n",
        "test_dataloader = DataLoader(test_dataset, batch_size=128,\n",
        "                             shuffle=True, collate_fn=collate_batch)"
      ],
      "execution_count": 3,
      "outputs": []
    },
    {
      "cell_type": "code",
      "metadata": {
        "id": "7CILulQd94yb"
      },
      "source": [
        "# logistic model\n",
        "import torch\n",
        "import torch.nn as nn\n",
        "import torch.nn.functional as F\n",
        "\n",
        "class LogisticRegression(nn.Module):\n",
        "    def __init__(self, word_vec, embed_dim):\n",
        "        super().__init__()\n",
        "        # embeddingbag outputs the average of all the words in a sentence\n",
        "        self.embedding = nn.Embedding(*(word_vec.size())).from_pretrained(word_vec, freeze=False)\n",
        "        self.fc = nn.Linear(embed_dim, 1)\n",
        "        self._init_weights()\n",
        "\n",
        "    def _init_weights(self):\n",
        "        \"\"\"Initialize network parameters \n",
        "        \"\"\"\n",
        "        initrange = 0.5\n",
        "        self.embedding.weight.data.uniform_(-initrange, initrange)\n",
        "        self.fc.weight.data.uniform_(-initrange, initrange)\n",
        "        self.fc.bias.data.zero_()\n",
        "\n",
        "    def forward(self, text, lengths):\n",
        "        embedded = self.embedding(text) # (batch_size, sent_len, emb_size)\n",
        "        embedded = embedded.sum(dim = 1) / lengths[:, None] # (add one axis)\n",
        "        return torch.sigmoid(self.fc(embedded))\n",
        "\n",
        "class LSTMcustom(nn.Module):\n",
        "    def __init__(self, word_vec, embed_dim):\n",
        "        super().__init__()\n",
        "        # embeddingbag outputs the average of all the words in a sentence\n",
        "        self.embedding = nn.Embedding(*(word_vec.size())).from_pretrained(word_vec, freeze=False)\n",
        "        # Initialize LSTM model. The arguments are in this order input_dim, hidden_dim, n_layers\n",
        "\n",
        "        self.lstm = nn.LSTM(embed_dim, 200, 4, bidirectional=False, batch_first = True)\n",
        "        # self.rnn = nn.RNN(embed_dim, 200, 1, bidirectional=False, batch_first = True)\n",
        "        \n",
        "        # Q1: What should be the input dimension of this linear layer?\n",
        "        # Q2: set bidirectional = True in the LSTM and determine the input size of the FC layer\n",
        "\n",
        "        self.fc = nn.Linear(200, 1)\n",
        "        \n",
        "    def forward(self, text, lengths, mask):\n",
        "        embedded = self.embedding(text) # (batch_size, sent_len, emb_size)\n",
        "        lstm_out,_ = self.lstm(embedded) # lstm_out is a 3d tensor (batch_size, sent_len, output_size). If you have a bidirectional LSTM, the outputsize will be 2*output_size\n",
        "        # lstm_out,_ = self.rnn(embedded)\n",
        "        \n",
        "        # Q3: Select the hidden output of the last element in the sequence. Hint: Remember that you padded the sequence and you already know the length of the sequence.\n",
        "        mask = mask.expand(-1, lstm_out.size()[1], lstm_out.size()[2])\n",
        "\n",
        "        output = lstm_out * mask\n",
        "        last_states = torch.sum(output, dim=1)\n",
        "        \n",
        "        # Q4: Add multiple layers to the LSTM by passing argument num_layers=2,3,4 etc. to the LSTM function above. Test whether the performance improves. If not, explain what did you observe.\n",
        "        \n",
        "        # Q5: Replace the LSTM layer with simple RNN layer and compare the performance between LSTM and RNN.\n",
        "        return torch.sigmoid(self.fc(last_states))   "
      ],
      "execution_count": 4,
      "outputs": []
    },
    {
      "cell_type": "markdown",
      "metadata": {
        "id": "5FtTh8omavA_"
      },
      "source": [
        "### **Q1** \n",
        "### Ans: Input dimension of the linear layer will be equal to the size of the hidden state which is 200\n",
        "\n",
        "### **Q2** \n",
        "### Ans: If bidirectional = True, the output size of the LSTM will be 2 * hidden state size, thus is 400\n",
        "\n",
        "### **Q4** \n",
        "### Ans: \n",
        "### Test accuracy for 1 layer for 10 epochs, not bidirectional, is 63.92%.\n",
        "### Test accuracy for 2 layers for 10 epochs, not bidirectional, is 63.93%.\n",
        "### Test accuracy for 3 layers for 10 epochs, not bidirectional, is 63.93%. \n",
        "### Test accuracy for 4 layers for 10 epochs, not bidirectional, is 63.93%.\n",
        "\n",
        "### The performance with the increase in the number of layers has not really improved.\n",
        "\n",
        "### **Q5** \n",
        "### Ans: \n",
        "### Test accuracy for RNN with 1 layer for 10 epochs, not bidirectional, is 64.90%.\n",
        "### Test accuracy for RNN with 2 layer for 10 epochs, not bidirectional, is 63.92%.\n",
        "### Test accuracy for RNN with 3 layer for 10 epochs, not bidirectional, is 63.92%.\n",
        "### Test accuracy for RNN with 4 layer for 10 epochs, not bidirectional, is 63.93%.\n",
        "\n",
        "### Using the RNN improved the performance when there is only 1 layer, but seems to perform similarly to LSTM when the number of layers are 2-4"
      ]
    },
    {
      "cell_type": "code",
      "metadata": {
        "id": "uOFu_-Nh94yd"
      },
      "source": [
        "import time\n",
        "\n",
        "def train(dataloader):\n",
        "    model.train()\n",
        "    total_acc, total_count = 0, 0\n",
        "    log_interval = 50\n",
        "    start_time = time.time()\n",
        "\n",
        "    for idx, (label, text, lengths, mask) in enumerate(dataloader):\n",
        "        optimizer.zero_grad()\n",
        "        # forward propagation\n",
        "        predicted_label = model(text, lengths, mask)\n",
        "        # calculate loss and backpropagate to model paramters\n",
        "        loss = criterion(predicted_label, label)\n",
        "        loss.backward()\n",
        "        torch.nn.utils.clip_grad_norm_(model.parameters(), 0.1)\n",
        "        # update parameters by stepping the optimizer\n",
        "        optimizer.step()\n",
        "        total_acc += ((predicted_label > 0.5) == label).sum().item()\n",
        "        total_count += label.size(0)\n",
        "        if idx % log_interval == 0 and idx > 0:\n",
        "            elapsed = time.time() - start_time\n",
        "            print('| epoch {:3d} | {:5d}/{:5d} batches '\n",
        "                  '| accuracy {:8.3f}'.format(epoch, idx, len(dataloader),\n",
        "                                              total_acc/total_count))\n",
        "            total_acc, total_count = 0, 0\n",
        "            start_time = time.time()\n",
        "\n",
        "def evaluate(dataloader):\n",
        "    model.eval()\n",
        "    total_acc, total_count = 0, 0\n",
        "\n",
        "    with torch.no_grad():\n",
        "        for idx, (label, text, lengths, mask) in enumerate(dataloader):\n",
        "            predicted_label = model(text, lengths, mask)\n",
        "            loss = criterion(predicted_label, label)\n",
        "            total_acc += (predicted_label.argmax(1) == label).sum().item()\n",
        "            total_count += label.size(0)\n",
        "    return total_acc/total_count"
      ],
      "execution_count": 5,
      "outputs": []
    },
    {
      "cell_type": "code",
      "metadata": {
        "id": "W8DYFiEa94yf"
      },
      "source": [
        "# Hyperparameters\n",
        "EPOCHS = 10 # epoch\n",
        "\n",
        "model = LSTMcustom(word_vec=word_emb, embed_dim=EMBEDDING_DIM).to(device)\n",
        "optimizer = torch.optim.SGD(model.parameters(), lr=0.001)\n",
        "criterion = torch.nn.BCELoss()\n",
        "total_accu = None\n",
        "\n",
        "\n",
        "for epoch in range(1, EPOCHS + 1):\n",
        "    epoch_start_time = time.time()\n",
        "    train(train_dataloader)"
      ],
      "execution_count": null,
      "outputs": []
    },
    {
      "cell_type": "code",
      "metadata": {
        "id": "J9LXL6-s94yg"
      },
      "source": [
        "accu_test = evaluate(test_dataloader)\n",
        "print('test accuracy {:8.2f}%'.format(accu_test))"
      ],
      "execution_count": null,
      "outputs": []
    }
  ]
}