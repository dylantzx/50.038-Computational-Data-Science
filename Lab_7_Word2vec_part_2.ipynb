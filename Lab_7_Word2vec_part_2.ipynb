{
  "nbformat": 4,
  "nbformat_minor": 0,
  "metadata": {
    "colab": {
      "name": "Lab 7 - Word2vec part 2",
      "provenance": [],
      "collapsed_sections": []
    },
    "kernelspec": {
      "name": "python3",
      "display_name": "Python 3"
    },
    "accelerator": "GPU"
  },
  "cells": [
    {
      "cell_type": "markdown",
      "metadata": {
        "id": "HAA2XCLSQInJ"
      },
      "source": [
        "## Classification with word2vec \n",
        "\n",
        "-- Prof. Dorien Herremans\n",
        "\n",
        "In this second part of the lab, we will be tackling a classification problem by first loading word embeddings and feeding those in a simple classifier. We compare this to naive alternative approaches. \n",
        "\n",
        "During this tutorial, you will need some of the following libraries, let's install them first if you don't have them: "
      ]
    },
    {
      "cell_type": "code",
      "metadata": {
        "id": "ud93NwIrl0Qj"
      },
      "source": [
        "#STUDENT NUMBER: \n",
        "\n",
        "# 1004385"
      ],
      "execution_count": null,
      "outputs": []
    },
    {
      "cell_type": "code",
      "metadata": {
        "id": "O0AHw5vB1yOT",
        "colab": {
          "base_uri": "https://localhost:8080/"
        },
        "outputId": "5ff8bab7-85b0-4199-af85-23de4f88c152"
      },
      "source": [
        "# Use this to install libraries if you find them missing on your system: \n",
        "!pip install bs4 \n",
        "!pip install sklearn\n",
        "!pip install nltk\n",
        "!pip install gensim\n",
        "!pip install lxml"
      ],
      "execution_count": null,
      "outputs": [
        {
          "output_type": "stream",
          "name": "stdout",
          "text": [
            "Requirement already satisfied: bs4 in /usr/local/lib/python3.7/dist-packages (0.0.1)\n",
            "Requirement already satisfied: beautifulsoup4 in /usr/local/lib/python3.7/dist-packages (from bs4) (4.6.3)\n",
            "Requirement already satisfied: sklearn in /usr/local/lib/python3.7/dist-packages (0.0)\n",
            "Requirement already satisfied: scikit-learn in /usr/local/lib/python3.7/dist-packages (from sklearn) (0.22.2.post1)\n",
            "Requirement already satisfied: scipy>=0.17.0 in /usr/local/lib/python3.7/dist-packages (from scikit-learn->sklearn) (1.4.1)\n",
            "Requirement already satisfied: numpy>=1.11.0 in /usr/local/lib/python3.7/dist-packages (from scikit-learn->sklearn) (1.19.5)\n",
            "Requirement already satisfied: joblib>=0.11 in /usr/local/lib/python3.7/dist-packages (from scikit-learn->sklearn) (1.0.1)\n",
            "Requirement already satisfied: nltk in /usr/local/lib/python3.7/dist-packages (3.2.5)\n",
            "Requirement already satisfied: six in /usr/local/lib/python3.7/dist-packages (from nltk) (1.15.0)\n",
            "Requirement already satisfied: gensim in /usr/local/lib/python3.7/dist-packages (3.6.0)\n",
            "Requirement already satisfied: scipy>=0.18.1 in /usr/local/lib/python3.7/dist-packages (from gensim) (1.4.1)\n",
            "Requirement already satisfied: numpy>=1.11.3 in /usr/local/lib/python3.7/dist-packages (from gensim) (1.19.5)\n",
            "Requirement already satisfied: six>=1.5.0 in /usr/local/lib/python3.7/dist-packages (from gensim) (1.15.0)\n",
            "Requirement already satisfied: smart-open>=1.2.1 in /usr/local/lib/python3.7/dist-packages (from gensim) (5.2.1)\n",
            "Requirement already satisfied: lxml in /usr/local/lib/python3.7/dist-packages (4.2.6)\n"
          ]
        }
      ]
    },
    {
      "cell_type": "markdown",
      "metadata": {
        "id": "L2yp5xfI15HJ"
      },
      "source": [
        "Now we can import some libraries that we will use:"
      ]
    },
    {
      "cell_type": "code",
      "metadata": {
        "id": "aCtMQEnRQjhV"
      },
      "source": [
        "import logging\n",
        "import pandas as pd\n",
        "import numpy as np\n",
        "from numpy import random\n",
        "import gensim\n",
        "import nltk\n",
        "import lxml\n",
        "from sklearn.model_selection import train_test_split\n",
        "from sklearn.feature_extraction.text import CountVectorizer, TfidfVectorizer\n",
        "from sklearn.metrics import accuracy_score, confusion_matrix, classification_report\n",
        "import matplotlib.pyplot as plt\n",
        "\n",
        "%matplotlib inline"
      ],
      "execution_count": null,
      "outputs": []
    },
    {
      "cell_type": "markdown",
      "metadata": {
        "id": "368EVM3_QInK"
      },
      "source": [
        "### TFIDF with logistic regression\n",
        "\n",
        "#### Preparing the dataset\n",
        "\n",
        "The classification problem at hand is to predict the tag that belongs to a Stack Overflow post. By the way, if you are not familiar with Stack Overflow, do check it out, it is a tremendous help when facing any coding issues. The data from Google BigQuery is available at the github below. If the link does not work you may have to download it manually from github then upload to Colab:\n",
        "\n",
        "https://github.com/dorienh/class_materials/blob/main/datasets/stack-overflow-data.csv\n",
        " \n",
        " We can read it directly into a pandas dataframe. \n"
      ]
    },
    {
      "cell_type": "code",
      "metadata": {
        "id": "dBLM0vEjyarI"
      },
      "source": [
        "url = \"https://github.com/dorienh/class_materials/blob/main/datasets/stack-overflow-data.csv?raw=true\"\n",
        "\n",
        "df = pd.read_csv(url, encoding = 'latin-1')"
      ],
      "execution_count": null,
      "outputs": []
    },
    {
      "cell_type": "markdown",
      "metadata": {
        "id": "JMzTr6hCQInM"
      },
      "source": [
        "Let's start by having a look at our data: "
      ]
    },
    {
      "cell_type": "code",
      "metadata": {
        "id": "3758TYmIQInQ",
        "colab": {
          "base_uri": "https://localhost:8080/",
          "height": 362
        },
        "outputId": "b66057d8-f9ed-4ec9-9786-c275f8dc50ce"
      },
      "source": [
        "# only keep data that has a tag (is labeled): \n",
        "df = df[pd.notnull(df['tags'])]\n",
        "\n",
        "# display first ten rows:\n",
        "df.head(10)"
      ],
      "execution_count": null,
      "outputs": [
        {
          "output_type": "execute_result",
          "data": {
            "text/html": [
              "<div>\n",
              "<style scoped>\n",
              "    .dataframe tbody tr th:only-of-type {\n",
              "        vertical-align: middle;\n",
              "    }\n",
              "\n",
              "    .dataframe tbody tr th {\n",
              "        vertical-align: top;\n",
              "    }\n",
              "\n",
              "    .dataframe thead th {\n",
              "        text-align: right;\n",
              "    }\n",
              "</style>\n",
              "<table border=\"1\" class=\"dataframe\">\n",
              "  <thead>\n",
              "    <tr style=\"text-align: right;\">\n",
              "      <th></th>\n",
              "      <th>post</th>\n",
              "      <th>tags</th>\n",
              "    </tr>\n",
              "  </thead>\n",
              "  <tbody>\n",
              "    <tr>\n",
              "      <th>0</th>\n",
              "      <td>what is causing this behavior  in our c# datet...</td>\n",
              "      <td>c#</td>\n",
              "    </tr>\n",
              "    <tr>\n",
              "      <th>1</th>\n",
              "      <td>have dynamic html load as if it was in an ifra...</td>\n",
              "      <td>asp.net</td>\n",
              "    </tr>\n",
              "    <tr>\n",
              "      <th>2</th>\n",
              "      <td>how to convert a float value in to min:sec  i ...</td>\n",
              "      <td>objective-c</td>\n",
              "    </tr>\n",
              "    <tr>\n",
              "      <th>3</th>\n",
              "      <td>.net framework 4 redistributable  just wonderi...</td>\n",
              "      <td>.net</td>\n",
              "    </tr>\n",
              "    <tr>\n",
              "      <th>4</th>\n",
              "      <td>trying to calculate and print the mean and its...</td>\n",
              "      <td>python</td>\n",
              "    </tr>\n",
              "    <tr>\n",
              "      <th>5</th>\n",
              "      <td>how to give alias name for my website  i have ...</td>\n",
              "      <td>asp.net</td>\n",
              "    </tr>\n",
              "    <tr>\n",
              "      <th>6</th>\n",
              "      <td>window.open() returns null in angularjs  it wo...</td>\n",
              "      <td>angularjs</td>\n",
              "    </tr>\n",
              "    <tr>\n",
              "      <th>7</th>\n",
              "      <td>identifying server timeout quickly in iphone  ...</td>\n",
              "      <td>iphone</td>\n",
              "    </tr>\n",
              "    <tr>\n",
              "      <th>8</th>\n",
              "      <td>unknown method key  error in rails 2.3.8 unit ...</td>\n",
              "      <td>ruby-on-rails</td>\n",
              "    </tr>\n",
              "    <tr>\n",
              "      <th>9</th>\n",
              "      <td>from the include  how to show and hide the con...</td>\n",
              "      <td>angularjs</td>\n",
              "    </tr>\n",
              "  </tbody>\n",
              "</table>\n",
              "</div>"
            ],
            "text/plain": [
              "                                                post           tags\n",
              "0  what is causing this behavior  in our c# datet...             c#\n",
              "1  have dynamic html load as if it was in an ifra...        asp.net\n",
              "2  how to convert a float value in to min:sec  i ...    objective-c\n",
              "3  .net framework 4 redistributable  just wonderi...           .net\n",
              "4  trying to calculate and print the mean and its...         python\n",
              "5  how to give alias name for my website  i have ...        asp.net\n",
              "6  window.open() returns null in angularjs  it wo...      angularjs\n",
              "7  identifying server timeout quickly in iphone  ...         iphone\n",
              "8  unknown method key  error in rails 2.3.8 unit ...  ruby-on-rails\n",
              "9  from the include  how to show and hide the con...      angularjs"
            ]
          },
          "metadata": {},
          "execution_count": 4
        }
      ]
    },
    {
      "cell_type": "markdown",
      "metadata": {
        "id": "13ECXgs-xn9p"
      },
      "source": [
        "Our task: predict the tag based on the post content. \n",
        "\n",
        "The size of our word embedding will be chosen based on how many unique words are in the dataset (meaning in the article text or posts): "
      ]
    },
    {
      "cell_type": "code",
      "metadata": {
        "id": "BvAXbtE5QInW",
        "colab": {
          "base_uri": "https://localhost:8080/"
        },
        "outputId": "8bd4e2ac-34d8-4fdc-c901-b73376b10e3e"
      },
      "source": [
        "# Count the number of words: \n",
        "df['post'].apply(lambda x: len(x.split(' '))).sum()"
      ],
      "execution_count": null,
      "outputs": [
        {
          "output_type": "execute_result",
          "data": {
            "text/plain": [
              "10286120"
            ]
          },
          "metadata": {},
          "execution_count": 5
        }
      ]
    },
    {
      "cell_type": "markdown",
      "metadata": {
        "id": "LSifacVqQIna"
      },
      "source": [
        "We have over 10 million words in the data. That's a lot! \n",
        "\n",
        "\n",
        "Let's visualise our dataset: \n",
        "\n"
      ]
    },
    {
      "cell_type": "code",
      "metadata": {
        "id": "O-DdZVX9QInb",
        "colab": {
          "base_uri": "https://localhost:8080/",
          "height": 318
        },
        "outputId": "0638d358-8b80-4e38-84e4-e65a3913b00f"
      },
      "source": [
        "# visualising dataset\n",
        "plt.figure(figsize=(10,4))\n",
        "df.tags.value_counts().plot(kind='bar');"
      ],
      "execution_count": null,
      "outputs": [
        {
          "output_type": "display_data",
          "data": {
            "image/png": "[encoded data removed]",
            "text/plain": [
              "<Figure size 720x288 with 1 Axes>"
            ]
          },
          "metadata": {
            "needs_background": "light"
          }
        }
      ]
    },
    {
      "cell_type": "markdown",
      "metadata": {
        "id": "5UwHhJXMQIng"
      },
      "source": [
        "As you can see, the classes are very well balanced.\n",
        "\n",
        "Now let's have a look at the data of the posts ('post' columns) in more detail: "
      ]
    },
    {
      "cell_type": "code",
      "metadata": {
        "id": "2Q3m4GxxQInh",
        "colab": {
          "base_uri": "https://localhost:8080/"
        },
        "outputId": "f0ce1f96-0637-4e48-e8fe-43f647a2f750"
      },
      "source": [
        "print(df['post'].values[10])"
      ],
      "execution_count": null,
      "outputs": [
        {
          "output_type": "stream",
          "name": "stdout",
          "text": [
            "when we need interface c# <blockquote>    <strong>possible duplicate:</strong><br>   <a href= https://stackoverflow.com/questions/240152/why-would-i-want-to-use-interfaces >why would i want to use interfaces </a>   <a href= https://stackoverflow.com/questions/9451868/why-i-need-interface >why i need interface </a>    </blockquote>     i want to know where and when to use it     for example    <pre><code>interface idemo {  // function prototype  public void show(); }  // first class using the interface class myclass1 : idemo {  public void show()  {   // function body comes here   response.write( i m in myclass );  }  }  // second class using the interface class myclass2 : idemo {  public void show()   {   // function body comes here   response.write( i m in myclass2 );   response.write( so  what  );  } </code></pre>   these two classes has the same function name with different body. this can be even achieved without interface. then why we need an interface where and when to use it\n"
          ]
        }
      ]
    },
    {
      "cell_type": "markdown",
      "metadata": {
        "id": "nbSGI0FQQInu"
      },
      "source": [
        "As you can see, the text needs to be cleaned up a bit. Below we use the `nltk` toolkit to remove spaces, html tags, stopwords, symbols etc. We define a function to remove stop words, replace / \\ and other symbols."
      ]
    },
    {
      "cell_type": "code",
      "metadata": {
        "id": "bydjpKCBQInv",
        "colab": {
          "base_uri": "https://localhost:8080/"
        },
        "outputId": "46f4534c-def9-47c8-c274-a7554a37c2d9"
      },
      "source": [
        "# note: slower students may wish to skip this step to finish the lab in class\n",
        "from nltk.corpus import stopwords\n",
        "import re\n",
        "from bs4 import BeautifulSoup\n",
        "\n",
        "# load a list of stop words\n",
        "nltk.download('stopwords')\n",
        "\n",
        "\n",
        "REPLACE_BY_SPACE_RE = re.compile('[/(){}\\[\\]\\|@,;]')\n",
        "BAD_SYMBOLS_RE = re.compile('[^0-9a-z #+_]')\n",
        "STOPWORDS = set(stopwords.words('english'))\n",
        "\n",
        "def clean_text(text):\n",
        "    \"\"\"\n",
        "        text: a string \n",
        "        return: modified initial string\n",
        "    \"\"\"\n",
        "    text = BeautifulSoup(text, 'html.parser').text # HTML decoding\n",
        "    text = text.lower() # lowercase text\n",
        "    text = REPLACE_BY_SPACE_RE.sub(' ', text) # replace REPLACE_BY_SPACE_RE symbols by space in text\n",
        "    text = BAD_SYMBOLS_RE.sub('', text) # delete symbols which are in BAD_SYMBOLS_RE from text\n",
        "    text = ' '.join(word for word in text.split() if word not in STOPWORDS) # delete stopwors from text\n",
        "    return text"
      ],
      "execution_count": null,
      "outputs": [
        {
          "output_type": "stream",
          "name": "stdout",
          "text": [
            "[nltk_data] Downloading package stopwords to /root/nltk_data...\n",
            "[nltk_data]   Unzipping corpora/stopwords.zip.\n"
          ]
        }
      ]
    },
    {
      "cell_type": "markdown",
      "metadata": {
        "id": "SiiOIj3L_NDH"
      },
      "source": [
        "Now we can apply the newly defined function on the column of `df 'post'`. "
      ]
    },
    {
      "cell_type": "code",
      "metadata": {
        "id": "6A8nlP0hQInx"
      },
      "source": [
        "df['post'] = df['post'].apply(clean_text)"
      ],
      "execution_count": null,
      "outputs": []
    },
    {
      "cell_type": "markdown",
      "metadata": {
        "id": "AkBB_8za_SE5"
      },
      "source": [
        "Let's check the results: "
      ]
    },
    {
      "cell_type": "code",
      "metadata": {
        "id": "MlL2uGKsQIn0",
        "colab": {
          "base_uri": "https://localhost:8080/"
        },
        "outputId": "f2ac165a-c591-48e6-bca4-b1f2f17edf26"
      },
      "source": [
        "print(df['post'].values[10])"
      ],
      "execution_count": null,
      "outputs": [
        {
          "output_type": "stream",
          "name": "stdout",
          "text": [
            "need interface c# possible duplicate would want use interfaces need interface want know use example interface idemo function prototype public void show first class using interface class myclass1 idemo public void show function body comes responsewrite myclass second class using interface class myclass2 idemo public void show function body comes responsewrite myclass2 responsewrite two classes function name different body even achieved without interface need interface use\n"
          ]
        }
      ]
    },
    {
      "cell_type": "markdown",
      "metadata": {
        "id": "YTkqUfwzQIn8"
      },
      "source": [
        "This looks a lot better!\n",
        "\n",
        "Now how many unique words do we have in this cleaned up dataset? "
      ]
    },
    {
      "cell_type": "code",
      "metadata": {
        "id": "4oV5baXxQIn8",
        "scrolled": true,
        "colab": {
          "base_uri": "https://localhost:8080/"
        },
        "outputId": "ac9c98c2-8938-4005-fce6-a7f74321003a"
      },
      "source": [
        "df['post'].apply(lambda x: len(x.split(' '))).sum()"
      ],
      "execution_count": null,
      "outputs": [
        {
          "output_type": "execute_result",
          "data": {
            "text/plain": [
              "3424194"
            ]
          },
          "metadata": {},
          "execution_count": 11
        }
      ]
    },
    {
      "cell_type": "markdown",
      "metadata": {
        "id": "gpllc3QyQIoA"
      },
      "source": [
        "Now we have over 3 million words to work with, that's 7 million removed tags.\n",
        "\n",
        "Before we start creating classifiers, let's split our dataset 70-30 in a test set (for evaluation) and training set: "
      ]
    },
    {
      "cell_type": "code",
      "metadata": {
        "id": "ylA7e4H_QIoB"
      },
      "source": [
        "X = df.post\n",
        "y = df.tags\n",
        "X_train, X_test, y_train, y_test = train_test_split(X, y, test_size=0.3, random_state = 42)"
      ],
      "execution_count": null,
      "outputs": []
    },
    {
      "cell_type": "markdown",
      "metadata": {
        "id": "cDHptCZqQIoU"
      },
      "source": [
        "#### Logistic regression\n",
        "\n",
        "Now that we have our features, we can train a classifier to try to predict the tag of a post. We will start with logistic regression and TFIDF representation which provides a nice baseline for this task. \n",
        "\n",
        "To make the vectorizer => transformer => classifier easier to work with, we will use the `Pipeline` class in Scikit-Learn that behaves like a compound classifier."
      ]
    },
    {
      "cell_type": "code",
      "metadata": {
        "id": "p8IMmMZWQIoV",
        "colab": {
          "base_uri": "https://localhost:8080/"
        },
        "outputId": "a290e371-d7a6-47c8-b136-3f3f12d51065"
      },
      "source": [
        "from sklearn.linear_model import LogisticRegression\n",
        "from sklearn.pipeline import Pipeline\n",
        "from sklearn.feature_extraction.text import TfidfTransformer\n",
        "\n",
        "# we define a Pipeline, which first represents our features as TFID\n",
        "# Then performs logistic regression\n",
        "logreg = Pipeline([('vect', CountVectorizer()),\n",
        "                ('tfidf', TfidfTransformer()),\n",
        "                ('clf', LogisticRegression(n_jobs=1, C=1e5)),\n",
        "               ])\n",
        "logreg.fit(X_train, y_train)"
      ],
      "execution_count": null,
      "outputs": [
        {
          "output_type": "stream",
          "name": "stderr",
          "text": [
            "/usr/local/lib/python3.7/dist-packages/sklearn/linear_model/_logistic.py:940: ConvergenceWarning: lbfgs failed to converge (status=1):\n",
            "STOP: TOTAL NO. of ITERATIONS REACHED LIMIT.\n",
            "\n",
            "Increase the number of iterations (max_iter) or scale the data as shown in:\n",
            "    https://scikit-learn.org/stable/modules/preprocessing.html\n",
            "Please also refer to the documentation for alternative solver options:\n",
            "    https://scikit-learn.org/stable/modules/linear_model.html#logistic-regression\n",
            "  extra_warning_msg=_LOGISTIC_SOLVER_CONVERGENCE_MSG)\n"
          ]
        },
        {
          "output_type": "execute_result",
          "data": {
            "text/plain": [
              "Pipeline(memory=None,\n",
              "         steps=[('vect',\n",
              "                 CountVectorizer(analyzer='word', binary=False,\n",
              "                                 decode_error='strict',\n",
              "                                 dtype=<class 'numpy.int64'>, encoding='utf-8',\n",
              "                                 input='content', lowercase=True, max_df=1.0,\n",
              "                                 max_features=None, min_df=1,\n",
              "                                 ngram_range=(1, 1), preprocessor=None,\n",
              "                                 stop_words=None, strip_accents=None,\n",
              "                                 token_pattern='(?u)\\\\b\\\\w\\\\w+\\\\b',\n",
              "                                 tokenizer=None, vocabulary=None)),\n",
              "                ('tfidf',\n",
              "                 TfidfTransformer(norm='l2', smooth_idf=True,\n",
              "                                  sublinear_tf=False, use_idf=True)),\n",
              "                ('clf',\n",
              "                 LogisticRegression(C=100000.0, class_weight=None, dual=False,\n",
              "                                    fit_intercept=True, intercept_scaling=1,\n",
              "                                    l1_ratio=None, max_iter=100,\n",
              "                                    multi_class='auto', n_jobs=1, penalty='l2',\n",
              "                                    random_state=None, solver='lbfgs',\n",
              "                                    tol=0.0001, verbose=0, warm_start=False))],\n",
              "         verbose=False)"
            ]
          },
          "metadata": {},
          "execution_count": 13
        }
      ]
    },
    {
      "cell_type": "markdown",
      "metadata": {
        "id": "plgMq5lA27-_"
      },
      "source": [
        "How well does it work? "
      ]
    },
    {
      "cell_type": "code",
      "metadata": {
        "id": "ZGSVTzWRQIoY",
        "colab": {
          "base_uri": "https://localhost:8080/"
        },
        "outputId": "b7ac9a24-9c81-46a0-a4b8-c23865b7cf0b"
      },
      "source": [
        "# to show the computation time: \n",
        "%%time\n",
        "\n",
        "y_pred = logreg.predict(X_test)\n",
        "\n",
        "print('accuracy %s' % accuracy_score(y_pred, y_test))\n",
        "print(classification_report(y_test, y_pred))"
      ],
      "execution_count": null,
      "outputs": [
        {
          "output_type": "stream",
          "name": "stdout",
          "text": [
            "accuracy 0.7861666666666667\n",
            "               precision    recall  f1-score   support\n",
            "\n",
            "         .net       0.67      0.64      0.65       613\n",
            "      android       0.91      0.90      0.91       620\n",
            "    angularjs       0.97      0.93      0.95       587\n",
            "      asp.net       0.76      0.75      0.75       586\n",
            "            c       0.78      0.83      0.81       599\n",
            "           c#       0.61      0.59      0.60       589\n",
            "          c++       0.79      0.76      0.77       594\n",
            "          css       0.84      0.87      0.85       610\n",
            "         html       0.70      0.73      0.71       617\n",
            "          ios       0.61      0.59      0.60       587\n",
            "       iphone       0.65      0.63      0.64       611\n",
            "         java       0.83      0.82      0.83       594\n",
            "   javascript       0.77      0.79      0.78       619\n",
            "       jquery       0.85      0.85      0.85       574\n",
            "        mysql       0.82      0.85      0.83       584\n",
            "  objective-c       0.66      0.66      0.66       578\n",
            "          php       0.82      0.83      0.83       591\n",
            "       python       0.93      0.90      0.91       608\n",
            "ruby-on-rails       0.96      0.94      0.95       638\n",
            "          sql       0.79      0.85      0.82       601\n",
            "\n",
            "     accuracy                           0.79     12000\n",
            "    macro avg       0.79      0.79      0.79     12000\n",
            " weighted avg       0.79      0.79      0.79     12000\n",
            "\n",
            "CPU times: user 1.21 s, sys: 10.6 ms, total: 1.22 s\n",
            "Wall time: 1.22 s\n"
          ]
        }
      ]
    },
    {
      "cell_type": "markdown",
      "metadata": {
        "id": "zAAVJw44xn_c"
      },
      "source": [
        "That's quite a good accuracy. Now let's see if we can combine **word2vec** with logistic regression by feeding the new embedded representation to our logistic regression instead of the bag of words representation of TFIDF. "
      ]
    },
    {
      "cell_type": "markdown",
      "metadata": {
        "id": "9gSX1ysMQIoc"
      },
      "source": [
        "### Word2vec embedding and Logistic Regression"
      ]
    },
    {
      "cell_type": "markdown",
      "metadata": {
        "id": "Ubl-sOB8W2f1"
      },
      "source": [
        "Let's load a pretrained word2vec model, and use the embedding representation as input to a simple classifier (i.e. logistic regression). \n",
        "\n",
        "You can use the word2vec model you trained in the first part of the lab (on the Shakespeare text), or load this (quite big, 1.5GB) pretrained word2vec model from Google trained on Google News data. \n",
        "\n",
        "If you load an model you trained yourself, use#\n",
        "`wv = gensim.models.KeyedVectors.load_word2vec_format(\"yourweights.bin.gz\", binary=True)`. We will be loading pretrained weights available in gensim itself:\n",
        "\n",
        "(This may take a while!)\n",
        "\n",
        "\n"
      ]
    },
    {
      "cell_type": "code",
      "metadata": {
        "id": "Cjipngb9QIod",
        "colab": {
          "base_uri": "https://localhost:8080/"
        },
        "outputId": "21663166-e271-44c9-fe46-7676e6de176b"
      },
      "source": [
        "%%time\n",
        "import gensim.downloader\n",
        "from gensim.models import Word2Vec\n",
        "\n",
        "# wv = gensim.models.KeyedVectors.load_word2vec_format(\"GoogleNews-vectors-negative300.bin.gz\", \n",
        "                                                    #  binary=True)\n",
        "\n",
        "wv = gensim.downloader.load('word2vec-google-news-300')\n",
        "wv.init_sims(replace=True)\n",
        "print('Model loaded')\n"
      ],
      "execution_count": null,
      "outputs": [
        {
          "output_type": "stream",
          "name": "stdout",
          "text": [
            "[==================================================] 100.0% 1662.8/1662.8MB downloaded\n",
            "Model loaded\n",
            "CPU times: user 13min 4s, sys: 1min 57s, total: 15min 2s\n",
            "Wall time: 20min 28s\n"
          ]
        }
      ]
    },
    {
      "cell_type": "markdown",
      "metadata": {
        "id": "E-W7lH8wxn_2"
      },
      "source": [
        "If you are interested how good these pretrained embeddings are, you could try some of the similarity tests we did in part 1 of the lab on the Shakespeare text. Only now we have a larger vocabulary, e.g.:  "
      ]
    },
    {
      "cell_type": "code",
      "metadata": {
        "colab": {
          "base_uri": "https://localhost:8080/"
        },
        "id": "Hyy5c5yC6XTx",
        "outputId": "3cc53691-29dd-4811-d9f0-78531a23f274"
      },
      "source": [
        "wv.most_similar('twitter')"
      ],
      "execution_count": null,
      "outputs": [
        {
          "output_type": "execute_result",
          "data": {
            "text/plain": [
              "[('Twitter', 0.89089035987854),\n",
              " ('Twitter.com', 0.7536780834197998),\n",
              " ('tweet', 0.7431625723838806),\n",
              " ('tweeting', 0.7161933183670044),\n",
              " ('tweeted', 0.7137226462364197),\n",
              " ('facebook', 0.6988551616668701),\n",
              " ('tweets', 0.6974530816078186),\n",
              " ('Tweeted', 0.6950210928916931),\n",
              " ('Tweet', 0.6875007152557373),\n",
              " ('Tweeting', 0.6845167279243469)]"
            ]
          },
          "metadata": {},
          "execution_count": 16
        }
      ]
    },
    {
      "cell_type": "markdown",
      "metadata": {
        "id": "o3UmhwMo6f4g"
      },
      "source": [
        "Gensim offers a number of pretrained models for you to choose from (convenient right!). You can check a list of available model like this: "
      ]
    },
    {
      "cell_type": "code",
      "metadata": {
        "colab": {
          "base_uri": "https://localhost:8080/"
        },
        "id": "_VIeyk0s6gCT",
        "outputId": "44737c5e-283d-48c5-df9d-f66c322d9a27"
      },
      "source": [
        "# Show all available models in gensim-data\n",
        "print(list(gensim.downloader.info()['models'].keys()))"
      ],
      "execution_count": null,
      "outputs": [
        {
          "output_type": "stream",
          "name": "stdout",
          "text": [
            "['fasttext-wiki-news-subwords-300', 'conceptnet-numberbatch-17-06-300', 'word2vec-ruscorpora-300', 'word2vec-google-news-300', 'glove-wiki-gigaword-50', 'glove-wiki-gigaword-100', 'glove-wiki-gigaword-200', 'glove-wiki-gigaword-300', 'glove-twitter-25', 'glove-twitter-50', 'glove-twitter-100', 'glove-twitter-200', '__testing_word2vec-matrix-synopsis']\n"
          ]
        }
      ]
    },
    {
      "cell_type": "markdown",
      "metadata": {
        "id": "mC4XwSuzQIoo"
      },
      "source": [
        "As we have multiple words for each post, we will need to somehow combine them. A common way to achieve this is by averaging the\n",
        "word vectors per document. In later classes you can feed the individual words to memory models like LSTM. For a quick solution here, we can use a summation or weighted addition. The function below takes as input a list of words and the word2vec model `wv`. Then it retrieves the vector embeddings for each of the words and averages them. "
      ]
    },
    {
      "cell_type": "code",
      "metadata": {
        "id": "lbSLtiwyQIoo"
      },
      "source": [
        "def word_averaging(wv, words):\n",
        "    # averages a set of words 'words' given their wordvectors 'wv'\n",
        "    \n",
        "    all_words, mean = set(), []\n",
        "    \n",
        "    # for each word in the list of words\n",
        "    for word in words:\n",
        "        # if the words are alread vectors, then just append them\n",
        "        if isinstance(word, np.ndarray):\n",
        "            mean.append(word)\n",
        "        # if not: first get the vector embedding for the words\n",
        "        elif word in wv.vocab:\n",
        "            mean.append(wv.syn0norm[wv.vocab[word].index])\n",
        "            all_words.add(wv.vocab[word].index)\n",
        "\n",
        "    \n",
        "    if not mean:\n",
        "        # error handling in case mean cannot be calculated\n",
        "        logging.warning(\"cannot compute similarity with no input %s\", words)\n",
        "        return np.zeros(wv.vector_size,)\n",
        "\n",
        "    # use gensim's method to calculate the mean of all the words appended to mean list\n",
        "    mean = gensim.matutils.unitvec(np.array(mean).mean(axis=0)).astype(np.float32)\n",
        "    return mean\n",
        "\n",
        "def  word_averaging_list(wv, text_list):\n",
        "    return np.vstack([word_averaging(wv, post) for post in text_list ])"
      ],
      "execution_count": null,
      "outputs": []
    },
    {
      "cell_type": "markdown",
      "metadata": {
        "id": "Tm_febK-xoAC"
      },
      "source": [
        "Below, we explore a way (slightly different from the method used in part 1 of the lab) to create tokens out of sentences, by using the `nltk` toolkit. "
      ]
    },
    {
      "cell_type": "code",
      "metadata": {
        "id": "jlyXtYm1QIos",
        "colab": {
          "base_uri": "https://localhost:8080/"
        },
        "outputId": "cc262dd6-9201-4604-e417-ec34c7685de2"
      },
      "source": [
        "import nltk.data\n",
        "nltk.download('punkt')\n",
        "\n",
        "def w2v_tokenize_text(text):\n",
        "    # create tokens, a list of words, for each post. This function will do some cleaning based on English language\n",
        "    tokens = []\n",
        "    for sent in nltk.sent_tokenize(text, language='english'):\n",
        "        for word in nltk.word_tokenize(sent, language='english'):\n",
        "            if len(word) < 2:\n",
        "                continue\n",
        "            tokens.append(word)\n",
        "    return tokens"
      ],
      "execution_count": null,
      "outputs": [
        {
          "output_type": "stream",
          "name": "stdout",
          "text": [
            "[nltk_data] Downloading package punkt to /root/nltk_data...\n",
            "[nltk_data]   Unzipping tokenizers/punkt.zip.\n"
          ]
        }
      ]
    },
    {
      "cell_type": "markdown",
      "metadata": {
        "id": "ZeuQn-3GxoAQ"
      },
      "source": [
        "Let's also split the dataset in training and test set like before, and tokenize each of these datasets using the method defined above."
      ]
    },
    {
      "cell_type": "code",
      "metadata": {
        "id": "CA1Wrn9-QIot"
      },
      "source": [
        "train, test = train_test_split(df, test_size=0.3, random_state = 42)\n",
        "\n",
        "test_tokenized = test.apply(lambda r: w2v_tokenize_text(r['post']), axis=1).values\n",
        "train_tokenized = train.apply(lambda r: w2v_tokenize_text(r['post']), axis=1).values"
      ],
      "execution_count": null,
      "outputs": []
    },
    {
      "cell_type": "markdown",
      "metadata": {
        "id": "rh11CM3ZxoAa"
      },
      "source": [
        "Since we have multiple word vectors per article, we can take multiple approaches (a powerful LSTM approach as we'll see later, or doc2vec as per below, but first we try a naive approach of averaging). We can average the word positions for each post in this new dataset using the functions we defined above and based on our word2vec model `wv`."
      ]
    },
    {
      "cell_type": "code",
      "metadata": {
        "id": "pqG34rU6QIoy",
        "colab": {
          "base_uri": "https://localhost:8080/"
        },
        "outputId": "f370d87d-d63e-4570-c6e7-396ba95dbc98"
      },
      "source": [
        "X_train_word_average = word_averaging_list(wv,train_tokenized)\n",
        "X_test_word_average = word_averaging_list(wv,test_tokenized)"
      ],
      "execution_count": null,
      "outputs": [
        {
          "output_type": "stream",
          "name": "stderr",
          "text": [
            "/usr/local/lib/python3.7/dist-packages/ipykernel_launcher.py:13: DeprecationWarning: Call to deprecated `syn0norm` (Attribute will be removed in 4.0.0, use self.wv.vectors_norm instead).\n",
            "  del sys.path[0]\n",
            "WARNING:root:cannot compute similarity with no input []\n",
            "WARNING:root:cannot compute similarity with no input ['ngrepeat']\n"
          ]
        }
      ]
    },
    {
      "cell_type": "markdown",
      "metadata": {
        "id": "3zQa7btkxoAj"
      },
      "source": [
        "Now we have a way to represent our input! This can then be fed to any classifier, like logistic regression: "
      ]
    },
    {
      "cell_type": "code",
      "metadata": {
        "id": "LSSSuFQYQIo5",
        "colab": {
          "base_uri": "https://localhost:8080/"
        },
        "outputId": "c7ff4a27-f0f5-43c5-d3db-959cf79b7629"
      },
      "source": [
        "from sklearn.linear_model import LogisticRegression\n",
        "logreg = LogisticRegression(n_jobs=1, C=1e5)\n",
        "logreg = logreg.fit(X_train_word_average, train['tags'])\n",
        "y_pred = logreg.predict(X_test_word_average)"
      ],
      "execution_count": null,
      "outputs": [
        {
          "output_type": "stream",
          "name": "stderr",
          "text": [
            "/usr/local/lib/python3.7/dist-packages/sklearn/linear_model/_logistic.py:940: ConvergenceWarning: lbfgs failed to converge (status=1):\n",
            "STOP: TOTAL NO. of ITERATIONS REACHED LIMIT.\n",
            "\n",
            "Increase the number of iterations (max_iter) or scale the data as shown in:\n",
            "    https://scikit-learn.org/stable/modules/preprocessing.html\n",
            "Please also refer to the documentation for alternative solver options:\n",
            "    https://scikit-learn.org/stable/modules/linear_model.html#logistic-regression\n",
            "  extra_warning_msg=_LOGISTIC_SOLVER_CONVERGENCE_MSG)\n"
          ]
        }
      ]
    },
    {
      "cell_type": "markdown",
      "metadata": {
        "id": "7fy9vOz44h9p"
      },
      "source": [
        "Let's evaluate how accurate this averaged word2vec representation with logistic regression is:"
      ]
    },
    {
      "cell_type": "code",
      "metadata": {
        "id": "U_WzSihIQIo9",
        "colab": {
          "base_uri": "https://localhost:8080/"
        },
        "outputId": "ff9137c5-38c7-4ff6-fd62-2e56fe0ea7e0"
      },
      "source": [
        "print('accuracy %s' % accuracy_score(y_pred, test.tags))\n",
        "print(classification_report(test.tags, y_pred))"
      ],
      "execution_count": null,
      "outputs": [
        {
          "output_type": "stream",
          "name": "stdout",
          "text": [
            "accuracy 0.6323333333333333\n",
            "               precision    recall  f1-score   support\n",
            "\n",
            "         .net       0.63      0.56      0.59       613\n",
            "      android       0.76      0.76      0.76       620\n",
            "    angularjs       0.64      0.66      0.65       587\n",
            "      asp.net       0.54      0.50      0.52       586\n",
            "            c       0.70      0.73      0.71       599\n",
            "           c#       0.39      0.43      0.41       589\n",
            "          c++       0.63      0.63      0.63       594\n",
            "          css       0.73      0.78      0.75       610\n",
            "         html       0.57      0.62      0.60       617\n",
            "          ios       0.55      0.53      0.54       587\n",
            "       iphone       0.57      0.52      0.54       611\n",
            "         java       0.63      0.59      0.61       594\n",
            "   javascript       0.64      0.61      0.62       619\n",
            "       jquery       0.59      0.57      0.58       574\n",
            "        mysql       0.68      0.73      0.71       584\n",
            "  objective-c       0.41      0.40      0.41       578\n",
            "          php       0.67      0.70      0.68       591\n",
            "       python       0.80      0.76      0.78       608\n",
            "ruby-on-rails       0.83      0.81      0.82       638\n",
            "          sql       0.67      0.71      0.69       601\n",
            "\n",
            "     accuracy                           0.63     12000\n",
            "    macro avg       0.63      0.63      0.63     12000\n",
            " weighted avg       0.63      0.63      0.63     12000\n",
            "\n"
          ]
        }
      ]
    },
    {
      "cell_type": "markdown",
      "metadata": {
        "id": "cNXuL03bxoAy"
      },
      "source": [
        "Now you can see that the accuracy went down! Oh no! Why is that? Because we used a very naive approach: averaging our vectors. A better way to approach this would be doc2vec, which learns relationships between documents (posts in this case), instead of words. The accuracy could also improve by using a different classifier instead of logistic regression, or by changing the aggregation strategy and feed it to an LSTM/RNN model. "
      ]
    },
    {
      "cell_type": "markdown",
      "metadata": {
        "id": "qtujiFgzQIpA"
      },
      "source": [
        "## Doc2vec and Logistic Regression (advanced)\n",
        "\n",
        "The idea of word2vec can be extended to documents whereby instead of learning feature representations for words, we learn it for sentences or documents. Doc2Vec extends the idea of word2vec, however words can only capture so much, there are times when we need relationships between documents and not just words.\n",
        "\n",
        "The way to train doc2vec model for our Stack Overflow questions and tags data is very similar to when we trained multi-class text classification with word2vec and logistic regression above.\n",
        "\n",
        "First, we label the sentences. Gensim’s Doc2Vec implementation requires each document/paragraph to have a label associated with it that indicates if it's part of the test or training set. We do this by using the TaggedDocument method. The format will be `TRAIN_i` or `TEST_i` where `i` is a dummy index of the post.\n",
        "\n",
        "First let's import the necessary libraries. \n"
      ]
    },
    {
      "cell_type": "code",
      "metadata": {
        "id": "qkXdv0A6QIpB"
      },
      "source": [
        "from tqdm import tqdm\n",
        "from gensim.models import doc2vec\n",
        "from sklearn import utils\n",
        "import gensim\n",
        "from gensim.models.doc2vec import TaggedDocument\n",
        "import re"
      ],
      "execution_count": null,
      "outputs": []
    },
    {
      "cell_type": "markdown",
      "metadata": {
        "id": "cBov76MXxoA8"
      },
      "source": [
        "Let's start by defining a function that labels our documents in the corpus. We just give them dummy labels TRAIN_i or TEST_i for post i. Given a corpus and labels, we return a variable that includes a label indicating if it's test or training data. "
      ]
    },
    {
      "cell_type": "code",
      "metadata": {
        "id": "TtVzwM8RQIpD"
      },
      "source": [
        "def label_sentences(corpus, label_type):\n",
        "    \"\"\"\n",
        "    Gensim's Doc2Vec implementation requires each document/paragraph to have a label associated with it.\n",
        "    We do this by using the TaggedDocument method. The format will be \"TRAIN_i\" or \"TEST_i\" where \"i\" is\n",
        "    a dummy index of the post.\n",
        "    \"\"\"\n",
        "    labeled = []\n",
        "    for i, v in enumerate(corpus):\n",
        "        label = label_type + '_' + str(i)\n",
        "        labeled.append(doc2vec.TaggedDocument(v.split(), [label]))\n",
        "    return labeled"
      ],
      "execution_count": null,
      "outputs": []
    },
    {
      "cell_type": "markdown",
      "metadata": {
        "id": "5lsDfgBnxoBC"
      },
      "source": [
        "Just like above we split our dataset up in test and training data."
      ]
    },
    {
      "cell_type": "code",
      "metadata": {
        "id": "GfXghWoJQIpF"
      },
      "source": [
        "X_train, X_test, y_train, y_test = train_test_split(df.post, df.tags, random_state=0, \n",
        "                                                    test_size=0.3)\n",
        "X_train = label_sentences(X_train, 'Train')\n",
        "X_test = label_sentences(X_test, 'Test')\n",
        "all_data = X_train + X_test"
      ],
      "execution_count": null,
      "outputs": []
    },
    {
      "cell_type": "markdown",
      "metadata": {
        "id": "A_KYhbHmxoBI"
      },
      "source": [
        "Let's have a look how our data looks at this moment: "
      ]
    },
    {
      "cell_type": "code",
      "metadata": {
        "id": "321apZFWQIpI",
        "colab": {
          "base_uri": "https://localhost:8080/"
        },
        "outputId": "659429d2-31bb-452e-e7a1-f1c291003ede"
      },
      "source": [
        "all_data[:10]"
      ],
      "execution_count": null,
      "outputs": [
        {
          "output_type": "execute_result",
          "data": {
            "text/plain": [
              "[TaggedDocument(words=['fulltext', 'search', 'php', 'pdo', 'returning', 'result', 'searched', 'lot', 'matter', 'find', 'wrong', 'setup', 'trying', 'fulltext', 'search', 'using', 'pdo', 'php', 'get', 'results', 'error', 'messages', 'table', 'contains', 'customer', 'details', 'id', 'int', '11', 'auto_increment', 'name', 'varchar', '150', 'lastname', 'varchar', '150', 'company', 'varchar', '250', 'adress', 'varchar', '150', 'postcode', 'int', '5', 'city', 'varchar', '150', 'email', 'varchar', '250', 'phone', 'varchar', '20', 'orgnr', 'varchar', '15', 'timestamp', 'timestamp', 'current_timestamp', 'run', 'sqlquery', 'alter', 'table', 'system_customer', 'add', 'fulltext', 'name', 'lastname', 'except', 'columns', 'id', 'postcode', 'timestamp', 'signs', 'trouble', 'far', 'idea', 'problem', 'lies', 'db', 'configuration', 'php', 'code', 'goes', 'php', 'sth', 'dbhprepare', 'select', 'name', 'lastname', 'company', 'adress', 'city', 'phone', 'email', 'orgnr', 'db_pre', 'customer', 'match', 'name', 'lastname', 'company', 'adress', 'city', 'phone', 'email', 'orgnr', 'search', 'boolean', 'mode', 'bind', 'placeholders', 'sthbindparam', 'search', 'data', 'sthexecute', 'rows', 'sthfetchall', 'testing', 'print_r', 'dbherrorinfo', 'empty', 'rows', 'echo', 'else', 'echo', 'foreach', 'rows', 'row', 'echo', 'tr', 'datahref', 'new_orderphp', 'cid', 'row', 'id', 'echo', 'td', 'row', 'name', 'td', 'echo', 'td', 'row', 'lastname', 'td', 'echo', 'td', 'row', 'company', 'td', 'echo', 'td', 'row', 'phone', 'td', 'echo', 'td', 'row', 'email', 'td', 'echo', 'td', 'date', 'ymd', 'strtotime', 'row', 'timestamp', 'td', 'echo', 'tr', 'echo', 'tried', 'change', 'parameter', 'searchquery', 'string', 'like', 'testcompany', 'somename', 'boolean', 'mode', 'also', 'read', 'word', 'found', '50', 'rows', 'counts', 'common', 'word', 'pretty', 'sure', 'case', 'uses', 'specific', 'words', 'table', 'uses', 'myisam', 'engine', 'get', 'results', 'error', 'messages', 'please', 'help', 'point', 'wrong', 'thank'], tags=['Train_0']),\n",
              " TaggedDocument(words=['select', 'everything', '1', 'table', 'x', 'rows', 'another', 'im', 'making', 'join', 'query', 'like', 'select', 'clothes', 'c', 'join', 'style', 'cstyleid', 'ssylelid', 'clothesid', '19', 'dont', 'want', 'select', 'everything', 'style', 'want', 'select', 'everything', 'clothes', '20', 'rows', 'select', '1', 'row', '10', 'style', 'easyest', 'way', 'without', 'select', 'every', 'row', 'clothes', '20', 'things', 'select', 'like', 'select', 'cid', 'cdescription', 'cname', 'csize', 'cbrand', 'sname', 'clothes', 'c', 'join', 'style', 'cstyleid', 'stsylelid', 'clothesid', '19', 'would', 'fastest', 'way', 'possibillity'], tags=['Train_1']),\n",
              " TaggedDocument(words=['r', 'cannot', 'resolved', 'variable', 'importing', 'project', 'pasting', 'problems', 'details', 'r', 'cannot', 'resolved', 'variable', 'common', 'problem', 'checked', 'res', 'folder', 'done', 'refreshing', 'project', 'cleaning', 'project', 'validate', 'still', 'error', 'resolved', 'help', 'guys', '20121214', '021238', 'comexampleandroidlivecubescube2cubewallpaper2settings', 'resdrawableic_launcher_wallpaperpng0', 'error', 'resource', 'entry', 'ic_launcher_wallpaper', 'already', 'defined', '20121214', '021238', 'comexampleandroidlivecubescube2cubewallpaper2settings', 'resdrawableic_launcher_wallpaperhtml0', 'originally', 'defined', '20121214', '021238', 'comexampleandroidlivecubescube2cubewallpaper2settings', 'resxmlcube1xml0', 'error', 'resource', 'entry', 'cube1', 'already', 'defined', '20121214', '021238', 'comexampleandroidlivecubescube2cubewallpaper2settings', 'resxmlcube1html0', 'originally', 'defined', '20121214', '021238', 'comexampleandroidlivecubescube2cubewallpaper2settings', 'resxmlcube2xml0', 'error', 'resource', 'entry', 'cube2', 'already', 'defined', '20121214', '021238', 'comexampleandroidlivecubescube2cubewallpaper2settings', 'resxmlcube2html0', 'originally', 'defined', '20121214', '021238', 'comexampleandroidlivecubescube2cubewallpaper2settings', 'resxmlcube2_settingsxml0', 'error', 'resource', 'entry', 'cube2_settings', 'already', 'defined', '20121214', '021238', 'comexampleandroidlivecubescube2cubewallpaper2settings', 'resxmlcube2_settingshtml0', 'originally', 'defined', '20121214', '021238', 'comexampleandroidlivecubescube2cubewallpaper2settings', 'fsample', 'projectscuberesvaluesindexhtml112', 'error', 'error', 'parsing', 'xml', 'mismatched', 'tag', '20121214', '021238', 'comexampleandroidlivecubescube2cubewallpaper2settings', 'fsample', 'projectscuberesvaluesshapeshtml112', 'error', 'error', 'parsing', 'xml', 'mismatched', 'tag', '20121214', '021238', 'comexampleandroidlivecubescube2cubewallpaper2settings', 'fsample', 'projectscuberesvaluesstringshtml112', 'error', 'error', 'parsing', 'xml', 'mismatched', 'tag', '20121214', '021238', 'comexampleandroidlivecubescube2cubewallpaper2settings', 'fsample', 'projectscuberesxmlcube1html112', 'error', 'error', 'parsing', 'xml', 'mismatched', 'tag', '20121214', '021238', 'comexampleandroidlivecubescube2cubewallpaper2settings', 'fsample', 'projectscuberesxmlcube2html112', 'error', 'error', 'parsing', 'xml', 'mismatched', 'tag', '20121214', '021238', 'comexampleandroidlivecubescube2cubewallpaper2settings', 'fsample', 'projectscuberesxmlcube2_settingshtml112', 'error', 'error', 'parsing', 'xml', 'mismatched', 'tag', '20121214', '021238', 'comexampleandroidlivecubescube2cubewallpaper2settings', 'fsample', 'projectscuberesxmlindexhtml112', 'error', 'error', 'parsing', 'xml', 'mismatched', 'tag', 'copyright', 'c', '2009', 'google', 'inc', 'licensed', 'apache', 'license', 'version', '20', 'license', 'may', 'use', 'file', 'except', 'compliance', 'license', 'may', 'obtain', 'copy', 'license', 'http', 'wwwapacheorg', 'licenses', 'license20', 'unless', 'required', 'applicable', 'law', 'agreed', 'writing', 'software', 'distributed', 'license', 'distributed', 'basis', 'without', 'warranties', 'conditions', 'kind', 'either', 'express', 'implied', 'see', 'license', 'specific', 'language', 'governing', 'permissions', 'limitations', 'license', 'package', 'comexampleandroidlivecubescube2', 'import', 'comexampleandroidlivecubescube2', 'import', 'androidcontentsharedpreferences', 'import', 'androidosbundle', 'import', 'androidpreferencepreferenceactivity', 'public', 'class', 'cubewallpaper2settings', 'extends', 'preferenceactivity', 'implements', 'sharedpreferencesonsharedpreferencechangelistener', 'override', 'protected', 'void', 'oncreate', 'bundle', 'icicle', 'superoncreate', 'icicle', 'getpreferencemanager', 'setsharedpreferencesname', 'cubewallpaper2shared_prefs_name', 'addpreferencesfromresource', 'rxmlcube2_settings', 'getpreferencemanager', 'getsharedpreferences', 'registeronsharedpreferencechangelistener', 'override', 'protected', 'void', 'onresume', 'superonresume', 'override', 'protected', 'void', 'ondestroy', 'getpreferencemanager', 'getsharedpreferences', 'unregisteronsharedpreferencechangelistener', 'superondestroy', 'public', 'void', 'onsharedpreferencechanged', 'sharedpreferences', 'sharedpreferences', 'string', 'key'], tags=['Train_2']),\n",
              " TaggedDocument(words=['efficient', 'way', 'get', 'values', 'object', 'based', 'id', 'list', 'list', 'users', 'users', 'arrayany', 'id1', 'name', 'id2', 'name', 'b', 'id3', 'name', 'c', 'thisselectedusers', '1', '2', 'get', 'objects', 'users', 'array', 'id', 'found', 'selectusers', 'array'], tags=['Train_3']),\n",
              " TaggedDocument(words=['aspnet', 'limit', 'parameter', 'length', 'querystring', 'problem', 'passing', 'parameters', 'querystring', 'found', 'values', 'null', 'code', 'snippet', 'page1', 'passing', 'parameters', 'responseredirect', 'stringformat', 'requestreservationpageaspx', 'plcname', '0', 'plcindex', '1', 'email', '2', 'form', '3', '4', 'sr', '5', 'comment', '6', 'lblplcnamevaltext', 'index', 'lblemailvaltext', 'datetimeparse', 'lblreqfromvaltext', 'toshortdatestring', 'datetimeparse', 'lblreqtovaltext', 'toshortdatestring', 'lblservreqnumtext', 'lblyourcommentvaltext', 'page2', 'requesting', 'values', 'cmbplcrequestselectedindex', 'converttoint32', 'requestquerystring', 'plcindex', 'txtemailtext', 'converttostring', 'requestquerystring', 'email', 'txtsrtext', 'converttostring', 'requestquerystring', 'sr', 'txtcommenttext', 'converttostring', 'requestquerystring', 'comment', 'txtreqfromdatetext', 'requestquerystring', 'txtreqtodatetext', 'requestquerystring', 'found', 'requestquerystring', 'requestquerystring', 'return', 'null', 'idea'], tags=['Train_4']),\n",
              " TaggedDocument(words=['ruby', 'rails', 'fetch', 'display', 'descendent', 'records', 'parent', 'model', 'many', 'children', 'class', 'band', 'activerecordbase', 'has_many', 'concerts', 'end', 'class', 'concerts', 'activerecordbase', 'belongs_to', 'band', 'end', 'would', 'like', 'display', 'index', 'view', 'figure', 'syntax', 'displaying', 'children', 'records', 'bandseach', 'band', 'band', 'name', 'bandname', 'concerts', 'ul', 'bandsconcertseach', 'concert', 'concertlocation', 'end', 'ul', 'end', 'getting', 'error', 'like', 'undefined', 'method', 'concerts', '#array0x00000102c537f0', 'proper', 'way', 'fetching', 'displaying', 'descendent', 'models'], tags=['Train_5']),\n",
              " TaggedDocument(words=['canceling', 'fade', 'effect', 'tooltip', 'hover', 'need', 'tooltip', 'hyperlinks', 'inside', 'web', 'site', 'wrote', 'code', 'seems', 'working', 'fine', 'expect', 'one', 'problem', 'hover', 'tooltip', 'block', 'fades', 'fades', 'need', 'prevent', 'fadeout', 'hovet', 'somehow', 'tried', 'use', 'stop', 'method', 'work', 'probably', 'something', 'wrong', 'could', 'please', 'help', 'thanks', 'html', 'div', 'id', 'hover', 'div', 'class', 'tooltip', 'href', '#', 'href', '#', 'href', '#', 'div', 'div', 'css', 'body', 'margin', '0', 'padding', '0', 'width', '100', 'height', '100', '#hover', 'position', 'relative', 'width50px', 'height50px', 'background', 'green', 'tooltip', 'position', 'relative', 'width', '45px', 'top', '80px', 'height', '20px', 'border', '1px', 'solid', 'black', 'padding', '5px', 'display', 'inlineblock', 'margintop', '5px', 'height', '10px', 'width', '10px', 'border', '1px', 'solid', 'black', 'background', 'red', 'jquery', 'document', 'ready', 'function', 'tooltip', 'hide', '#hover', 'hover', 'function', 'find', 'tooltip', 'fadein', 'function', 'find', 'tooltip', 'delay', '1000', 'fadeout', 'demo', 'http', 'jsfiddlenet', '8gc3d', '2904'], tags=['Train_6']),\n",
              " TaggedDocument(words=['ajax', 'calender', 'working', 'ie', 'using', 'ajax', 'calender', 'readonly', 'textbox', 'control', 'select', 'date', 'click', 'date', 'calender', 'picks', 'date', 'attach', 'txtfromdate', 'working', 'correctly', 'ff', 'chrome', 'ie', 'code', 'asptextbox', 'id', 'txtfromdate', 'text', 'date', 'runat', 'server', 'onfocus', 'javascriptthisvalue', 'onblur', 'javascript', 'thisvalue', 'thisvalue', 'date', 'asptextbox', 'ajaxcalendarextender', 'id', 'txtcalendecontrolextenderfromdate', 'runat', 'server', 'format', 'ddmmmyyyy', 'targetcontrolid', 'txtfromdate', 'ajaxcalendarextender'], tags=['Train_7']),\n",
              " TaggedDocument(words=['c++', 'random', 'number', 'generator', 'hung', 'whenever', 'attempt', 'run', 'code', 'program', 'gets', 'hung', 'print', 'value', 'r2eff', 'sure', 'help', 'would', 'appreciated', 'sample', 'value', 'r2efftemp', 'would', '10', 'stddev', 'would', '05', '5', 'unsigned', 'seed', 'stdchronosystem_clocknow', 'time_since_epoch', 'count', 'stdmt19937', 'generator', 'seed', 'normal_distributiondouble', 'rand', 'r2efftemp', 'r2efftempstddev', 'r2efftemp', 'rand', 'generator', 'coutr2efftempendl', 'thank'], tags=['Train_8']),\n",
              " TaggedDocument(words=['bit', 'vector', 'looked', 'online', 'good', 'seem', 'find', 'good', 'example', 'bit', 'vector', 'actually', 'assignment', 'college', 'add', 'remove', 'union', '2', 'vectors', 'intersection', 'struggling', 'comprehend', 'actual', 'bit', 'vector', 'using', 'c', 'write', 'could', 'someone', 'please', 'help', 'would', 'massive', 'help'], tags=['Train_9'])]"
            ]
          },
          "metadata": {},
          "execution_count": 27
        }
      ]
    },
    {
      "cell_type": "markdown",
      "metadata": {
        "id": "GvY-IsHNxoBQ"
      },
      "source": [
        "Gensim allows us to build a model very easily. We can vary the parameters to fit your data: \n",
        "\n",
        "*    `dm=0` , distributed bag of words (DBOW) is used.\n",
        "*    `vector_size=300` , 300 vector dimensional feature vectors.\n",
        "*    `negative=5` , specifies how many “noise words” should be drawn.\n",
        "*    `min_count=1`, ignores all words with total frequency lower than this.\n",
        "*    `alpha=0.065` , the initial learning rate.\n",
        "\n",
        "We initialize the model and train for 30 epochs. (Those of you on slower computers may want to train for less epochs). Be sure to set your runtime to GPU hardware acceleration! Maybe test with a lower amount of epochs first to see how high you can go during class time!\n"
      ]
    },
    {
      "cell_type": "code",
      "metadata": {
        "id": "G9UoqpKnQIpM",
        "colab": {
          "base_uri": "https://localhost:8080/"
        },
        "outputId": "2daca324-4379-49d7-bdef-d86641b6b000"
      },
      "source": [
        "model_dbow = doc2vec.Doc2Vec(dm=0, vector_size=300, negative=5, min_count=1, alpha=0.065, \n",
        "                     min_alpha=0.065)\n",
        "model_dbow.build_vocab([x for x in tqdm(all_data)])"
      ],
      "execution_count": null,
      "outputs": [
        {
          "output_type": "stream",
          "name": "stderr",
          "text": [
            "100%|██████████| 40000/40000 [00:00<00:00, 2822261.55it/s]\n"
          ]
        }
      ]
    },
    {
      "cell_type": "code",
      "metadata": {
        "id": "lSDy4huyQIpP",
        "colab": {
          "base_uri": "https://localhost:8080/"
        },
        "outputId": "66c3b8df-5f7e-4efb-87f9-7c507b852d35"
      },
      "source": [
        "for epoch in range(30):\n",
        "    model_dbow.train(utils.shuffle([x for x in tqdm(all_data)]), \n",
        "                     total_examples=len(all_data), \n",
        "                     epochs=1)\n",
        "    model_dbow.alpha -= 0.002\n",
        "    model_dbow.min_alpha = model_dbow.alpha"
      ],
      "execution_count": null,
      "outputs": [
        {
          "output_type": "stream",
          "name": "stderr",
          "text": [
            "100%|██████████| 40000/40000 [00:00<00:00, 1936294.35it/s]\n",
            "100%|██████████| 40000/40000 [00:00<00:00, 2223679.36it/s]\n",
            "100%|██████████| 40000/40000 [00:00<00:00, 1776513.52it/s]\n",
            "100%|██████████| 40000/40000 [00:00<00:00, 2833319.15it/s]\n",
            "100%|██████████| 40000/40000 [00:00<00:00, 2227694.92it/s]\n",
            "100%|██████████| 40000/40000 [00:00<00:00, 2963020.73it/s]\n",
            "100%|██████████| 40000/40000 [00:00<00:00, 2079734.23it/s]\n",
            "100%|██████████| 40000/40000 [00:00<00:00, 2179340.37it/s]\n",
            "100%|██████████| 40000/40000 [00:00<00:00, 2124800.97it/s]\n",
            "100%|██████████| 40000/40000 [00:00<00:00, 2206338.16it/s]\n",
            "100%|██████████| 40000/40000 [00:00<00:00, 2831741.02it/s]\n",
            "100%|██████████| 40000/40000 [00:00<00:00, 2229145.26it/s]\n",
            "100%|██████████| 40000/40000 [00:00<00:00, 2284323.78it/s]\n",
            "100%|██████████| 40000/40000 [00:00<00:00, 2374425.54it/s]\n",
            "100%|██████████| 40000/40000 [00:00<00:00, 2743392.36it/s]\n",
            "100%|██████████| 40000/40000 [00:00<00:00, 2315663.83it/s]\n",
            "100%|██████████| 40000/40000 [00:00<00:00, 2567718.51it/s]\n",
            "100%|██████████| 40000/40000 [00:00<00:00, 2230538.18it/s]\n",
            "100%|██████████| 40000/40000 [00:00<00:00, 2211777.36it/s]\n",
            "100%|██████████| 40000/40000 [00:00<00:00, 2382044.53it/s]\n",
            "100%|██████████| 40000/40000 [00:00<00:00, 3032867.42it/s]\n",
            "100%|██████████| 40000/40000 [00:00<00:00, 2351594.53it/s]\n",
            "100%|██████████| 40000/40000 [00:00<00:00, 2239948.73it/s]\n",
            "100%|██████████| 40000/40000 [00:00<00:00, 2136517.33it/s]\n",
            "100%|██████████| 40000/40000 [00:00<00:00, 2169869.76it/s]\n",
            "100%|██████████| 40000/40000 [00:00<00:00, 2260531.95it/s]\n",
            "100%|██████████| 40000/40000 [00:00<00:00, 2080249.97it/s]\n",
            "100%|██████████| 40000/40000 [00:00<00:00, 2785663.57it/s]\n",
            "100%|██████████| 40000/40000 [00:00<00:00, 2282583.37it/s]\n",
            "100%|██████████| 40000/40000 [00:00<00:00, 2194362.25it/s]\n"
          ]
        }
      ]
    },
    {
      "cell_type": "markdown",
      "metadata": {
        "id": "mNp4a3ouxoB5"
      },
      "source": [
        "Now let's define a function to get the vector of a particular word from this trained  model, so that we can feed them into the logistic regression:"
      ]
    },
    {
      "cell_type": "code",
      "metadata": {
        "id": "A6cGBFuRQIpT"
      },
      "source": [
        "def get_vectors(model, corpus_size, vectors_size, vectors_type):\n",
        "    \"\"\"\n",
        "    Get vectors from trained doc2vec model\n",
        "    :param doc2vec_model: Trained Doc2Vec model\n",
        "    :param corpus_size: Size of the data\n",
        "    :param vectors_size: Size of the embedding vectors\n",
        "    :param vectors_type: Training or Testing vectors\n",
        "    :return: list of vectors\n",
        "    \"\"\"\n",
        "    vectors = np.zeros((corpus_size, vectors_size))\n",
        "    for i in range(0, corpus_size):\n",
        "        prefix = vectors_type + '_' + str(i)\n",
        "        vectors[i] = model.docvecs[prefix]\n",
        "    return vectors"
      ],
      "execution_count": null,
      "outputs": []
    },
    {
      "cell_type": "markdown",
      "metadata": {
        "id": "cgOEdSpS7nTW"
      },
      "source": [
        "We can use this function to create a vectorised training and test set with 1 entry per document for the input in classification models such as logistic regression. "
      ]
    },
    {
      "cell_type": "code",
      "metadata": {
        "id": "57wLrRE3QIpX"
      },
      "source": [
        "train_vectors_dbow = get_vectors(model_dbow, len(X_train), 300, 'Train')\n",
        "test_vectors_dbow = get_vectors(model_dbow, len(X_test), 300, 'Test')"
      ],
      "execution_count": null,
      "outputs": []
    },
    {
      "cell_type": "markdown",
      "metadata": {
        "id": "WJE2ZeuOxoCD"
      },
      "source": [
        "We can now feed these vectors to the classifier again: "
      ]
    },
    {
      "cell_type": "code",
      "metadata": {
        "id": "NoLo0XkeQIpa",
        "colab": {
          "base_uri": "https://localhost:8080/"
        },
        "outputId": "59636f3d-067f-428b-c21e-66482fe935dd"
      },
      "source": [
        "logreg = LogisticRegression(n_jobs=1, C=1e5)\n",
        "logreg.fit(train_vectors_dbow, y_train)\n",
        "\n",
        "logreg = logreg.fit(train_vectors_dbow, y_train)\n",
        "y_pred = logreg.predict(test_vectors_dbow)\n",
        "\n",
        "print('accuracy %s' % accuracy_score(y_pred, y_test))\n",
        "print(classification_report(y_test, y_pred))"
      ],
      "execution_count": null,
      "outputs": [
        {
          "output_type": "stream",
          "name": "stderr",
          "text": [
            "/usr/local/lib/python3.7/dist-packages/sklearn/linear_model/_logistic.py:940: ConvergenceWarning: lbfgs failed to converge (status=1):\n",
            "STOP: TOTAL NO. of ITERATIONS REACHED LIMIT.\n",
            "\n",
            "Increase the number of iterations (max_iter) or scale the data as shown in:\n",
            "    https://scikit-learn.org/stable/modules/preprocessing.html\n",
            "Please also refer to the documentation for alternative solver options:\n",
            "    https://scikit-learn.org/stable/modules/linear_model.html#logistic-regression\n",
            "  extra_warning_msg=_LOGISTIC_SOLVER_CONVERGENCE_MSG)\n",
            "/usr/local/lib/python3.7/dist-packages/sklearn/linear_model/_logistic.py:940: ConvergenceWarning: lbfgs failed to converge (status=1):\n",
            "STOP: TOTAL NO. of ITERATIONS REACHED LIMIT.\n",
            "\n",
            "Increase the number of iterations (max_iter) or scale the data as shown in:\n",
            "    https://scikit-learn.org/stable/modules/preprocessing.html\n",
            "Please also refer to the documentation for alternative solver options:\n",
            "    https://scikit-learn.org/stable/modules/linear_model.html#logistic-regression\n",
            "  extra_warning_msg=_LOGISTIC_SOLVER_CONVERGENCE_MSG)\n"
          ]
        },
        {
          "output_type": "stream",
          "name": "stdout",
          "text": [
            "accuracy 0.7989166666666667\n",
            "               precision    recall  f1-score   support\n",
            "\n",
            "         .net       0.69      0.67      0.68       589\n",
            "      android       0.89      0.90      0.90       661\n",
            "    angularjs       0.96      0.94      0.95       606\n",
            "      asp.net       0.77      0.77      0.77       613\n",
            "            c       0.83      0.86      0.84       601\n",
            "           c#       0.69      0.70      0.70       585\n",
            "          c++       0.85      0.81      0.83       621\n",
            "          css       0.81      0.83      0.82       587\n",
            "         html       0.67      0.64      0.66       560\n",
            "          ios       0.66      0.69      0.68       611\n",
            "       iphone       0.67      0.65      0.66       593\n",
            "         java       0.82      0.85      0.83       581\n",
            "   javascript       0.78      0.76      0.77       608\n",
            "       jquery       0.85      0.83      0.84       593\n",
            "        mysql       0.84      0.81      0.82       592\n",
            "  objective-c       0.72      0.65      0.69       597\n",
            "          php       0.84      0.84      0.84       604\n",
            "       python       0.89      0.93      0.91       610\n",
            "ruby-on-rails       0.92      0.95      0.93       595\n",
            "          sql       0.80      0.85      0.83       593\n",
            "\n",
            "     accuracy                           0.80     12000\n",
            "    macro avg       0.80      0.80      0.80     12000\n",
            " weighted avg       0.80      0.80      0.80     12000\n",
            "\n"
          ]
        }
      ]
    },
    {
      "cell_type": "markdown",
      "metadata": {
        "id": "GqmumA0-xoCV"
      },
      "source": [
        "We get 80%, that is the best result so far! Remember, we can actually use any classifier with this method! So up to you to make your project as efficient as possible :)\n",
        "    \n",
        "Try using a different classifiers, e.g. Decision tree or SVM. Does that influence the results? \n",
        "\n",
        "New methods are coming out every day in the field of data science. Just at the end of August 2019, the first implementation of BERT for document classfication was published: DocBERT: https://arxiv.org/abs/1904.08398\n",
        "\n",
        "These embeddings can similarly be loaded. There are also specialised pretrainend embeddings for say, financial data, e.g. FinBERT. "
      ]
    },
    {
      "cell_type": "markdown",
      "metadata": {
        "id": "jvthUI_yxoCg"
      },
      "source": [
        "## References\n",
        "\n",
        "* https://radimrehurek.com/gensim/models/word2vec.html\n",
        "* https://towardsdatascience.com/multi-class-text-classification-model-comparison-and-selection-5eb066197568\n",
        "* https://github.com/kavgan/nlp-text-mining-working-examples/tree/master/word2vec\n",
        "* https://medium.com/@mishra.thedeepak/doc2vec-simple-implementation-example-df2afbbfbad5]"
      ]
    },
    {
      "cell_type": "markdown",
      "metadata": {
        "id": "fDmjCi1QHIkV"
      },
      "source": [
        "## Exercise\n",
        "\n",
        "Now over to you! \n",
        "\n",
        "Can you develop a doc2vec with SVM classifier for the following dataset? \n",
        "\n",
        "https://www.kaggle.com/clmentbisaillon/fake-and-real-news-dataset?select=Fake.csv\n",
        "\n",
        "The task is to predict if news is fake or real. \n",
        "\n",
        "As input, use only the text for simplicity (possibly concatenated with title, but not necessary). \n",
        "\n",
        "Good luck! "
      ]
    },
    {
      "cell_type": "code",
      "metadata": {
        "colab": {
          "resources": {
            "http://localhost:8080/nbextensions/google.colab/files.js": {
              "data": "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",
              "ok": true,
              "headers": [
                [
                  "content-type",
                  "application/javascript"
                ]
              ],
              "status": 200,
              "status_text": ""
            }
          },
          "base_uri": "https://localhost:8080/",
          "height": 72
        },
        "id": "d-JOz8XjZCkT",
        "outputId": "2c4a20fb-b678-4584-ced3-548af1007345"
      },
      "source": [
        "## Load dataset\n",
        "\n",
        "# Follow steps to load dataset\n",
        "# https://www.analyticsvidhya.com/blog/2021/06/how-to-load-kaggle-datasets-directly-into-google-colab/\n",
        "\n",
        "# First upload kaggle.json\n",
        "from google.colab import files\n",
        "upload = files.upload()"
      ],
      "execution_count": null,
      "outputs": [
        {
          "output_type": "display_data",
          "data": {
            "text/html": [
              "\n",
              "     <input type=\"file\" id=\"files-349d0996-12e3-45a6-84ff-1a233f57d142\" name=\"files[]\" multiple disabled\n",
              "        style=\"border:none\" />\n",
              "     <output id=\"result-349d0996-12e3-45a6-84ff-1a233f57d142\">\n",
              "      Upload widget is only available when the cell has been executed in the\n",
              "      current browser session. Please rerun this cell to enable.\n",
              "      </output>\n",
              "      <script src=\"/nbextensions/google.colab/files.js\"></script> "
            ],
            "text/plain": [
              "<IPython.core.display.HTML object>"
            ]
          },
          "metadata": {}
        },
        {
          "output_type": "stream",
          "name": "stdout",
          "text": [
            "Saving kaggle.json to kaggle.json\n"
          ]
        }
      ]
    },
    {
      "cell_type": "code",
      "metadata": {
        "colab": {
          "base_uri": "https://localhost:8080/"
        },
        "id": "dwOxaMD-ZrP8",
        "outputId": "d0f00c54-b7a6-4ddd-9ee9-5e6b3028a97b"
      },
      "source": [
        "!pip install kaggle\n",
        "!mkdir ~/.kaggle\n",
        "!cp kaggle.json ~/.kaggle/\n",
        "!chmod 600 ~/.kaggle/kaggle.json"
      ],
      "execution_count": null,
      "outputs": [
        {
          "output_type": "stream",
          "name": "stdout",
          "text": [
            "Requirement already satisfied: kaggle in /usr/local/lib/python3.7/dist-packages (1.5.12)\n",
            "Requirement already satisfied: certifi in /usr/local/lib/python3.7/dist-packages (from kaggle) (2021.10.8)\n",
            "Requirement already satisfied: python-dateutil in /usr/local/lib/python3.7/dist-packages (from kaggle) (2.8.2)\n",
            "Requirement already satisfied: six>=1.10 in /usr/local/lib/python3.7/dist-packages (from kaggle) (1.15.0)\n",
            "Requirement already satisfied: urllib3 in /usr/local/lib/python3.7/dist-packages (from kaggle) (1.24.3)\n",
            "Requirement already satisfied: python-slugify in /usr/local/lib/python3.7/dist-packages (from kaggle) (5.0.2)\n",
            "Requirement already satisfied: tqdm in /usr/local/lib/python3.7/dist-packages (from kaggle) (4.62.3)\n",
            "Requirement already satisfied: requests in /usr/local/lib/python3.7/dist-packages (from kaggle) (2.23.0)\n",
            "Requirement already satisfied: text-unidecode>=1.3 in /usr/local/lib/python3.7/dist-packages (from python-slugify->kaggle) (1.3)\n",
            "Requirement already satisfied: chardet<4,>=3.0.2 in /usr/local/lib/python3.7/dist-packages (from requests->kaggle) (3.0.4)\n",
            "Requirement already satisfied: idna<3,>=2.5 in /usr/local/lib/python3.7/dist-packages (from requests->kaggle) (2.10)\n"
          ]
        }
      ]
    },
    {
      "cell_type": "code",
      "metadata": {
        "colab": {
          "base_uri": "https://localhost:8080/"
        },
        "id": "PGngsqaqanqX",
        "outputId": "47924529-3b90-4407-a4a2-42f588ca7b66"
      },
      "source": [
        "!kaggle datasets download clmentbisaillon/fake-and-real-news-dataset\n",
        "!unzip fake-and-real-news-dataset.zip"
      ],
      "execution_count": null,
      "outputs": [
        {
          "output_type": "stream",
          "name": "stdout",
          "text": [
            "Downloading fake-and-real-news-dataset.zip to /content\n",
            " 78% 32.0M/41.0M [00:00<00:00, 153MB/s]\n",
            "100% 41.0M/41.0M [00:00<00:00, 163MB/s]\n",
            "Archive:  fake-and-real-news-dataset.zip\n",
            "  inflating: Fake.csv                \n",
            "  inflating: True.csv                \n"
          ]
        }
      ]
    },
    {
      "cell_type": "code",
      "metadata": {
        "id": "-QyRLoutHY3g",
        "colab": {
          "base_uri": "https://localhost:8080/",
          "height": 362
        },
        "outputId": "2f01272c-33ae-4d31-9e67-fbb8903d1d39"
      },
      "source": [
        "import pandas as pd \n",
        "\n",
        "fake_df = pd.read_csv('Fake.csv',usecols=[\"text\"])\n",
        "\n",
        "fake_df[\"label\"] = \"fake\"\n",
        "\n",
        "fake_df.head(10)"
      ],
      "execution_count": null,
      "outputs": [
        {
          "output_type": "execute_result",
          "data": {
            "text/html": [
              "<div>\n",
              "<style scoped>\n",
              "    .dataframe tbody tr th:only-of-type {\n",
              "        vertical-align: middle;\n",
              "    }\n",
              "\n",
              "    .dataframe tbody tr th {\n",
              "        vertical-align: top;\n",
              "    }\n",
              "\n",
              "    .dataframe thead th {\n",
              "        text-align: right;\n",
              "    }\n",
              "</style>\n",
              "<table border=\"1\" class=\"dataframe\">\n",
              "  <thead>\n",
              "    <tr style=\"text-align: right;\">\n",
              "      <th></th>\n",
              "      <th>text</th>\n",
              "      <th>label</th>\n",
              "    </tr>\n",
              "  </thead>\n",
              "  <tbody>\n",
              "    <tr>\n",
              "      <th>0</th>\n",
              "      <td>Donald Trump just couldn t wish all Americans ...</td>\n",
              "      <td>fake</td>\n",
              "    </tr>\n",
              "    <tr>\n",
              "      <th>1</th>\n",
              "      <td>House Intelligence Committee Chairman Devin Nu...</td>\n",
              "      <td>fake</td>\n",
              "    </tr>\n",
              "    <tr>\n",
              "      <th>2</th>\n",
              "      <td>On Friday, it was revealed that former Milwauk...</td>\n",
              "      <td>fake</td>\n",
              "    </tr>\n",
              "    <tr>\n",
              "      <th>3</th>\n",
              "      <td>On Christmas day, Donald Trump announced that ...</td>\n",
              "      <td>fake</td>\n",
              "    </tr>\n",
              "    <tr>\n",
              "      <th>4</th>\n",
              "      <td>Pope Francis used his annual Christmas Day mes...</td>\n",
              "      <td>fake</td>\n",
              "    </tr>\n",
              "    <tr>\n",
              "      <th>5</th>\n",
              "      <td>The number of cases of cops brutalizing and ki...</td>\n",
              "      <td>fake</td>\n",
              "    </tr>\n",
              "    <tr>\n",
              "      <th>6</th>\n",
              "      <td>Donald Trump spent a good portion of his day a...</td>\n",
              "      <td>fake</td>\n",
              "    </tr>\n",
              "    <tr>\n",
              "      <th>7</th>\n",
              "      <td>In the wake of yet another court decision that...</td>\n",
              "      <td>fake</td>\n",
              "    </tr>\n",
              "    <tr>\n",
              "      <th>8</th>\n",
              "      <td>Many people have raised the alarm regarding th...</td>\n",
              "      <td>fake</td>\n",
              "    </tr>\n",
              "    <tr>\n",
              "      <th>9</th>\n",
              "      <td>Just when you might have thought we d get a br...</td>\n",
              "      <td>fake</td>\n",
              "    </tr>\n",
              "  </tbody>\n",
              "</table>\n",
              "</div>"
            ],
            "text/plain": [
              "                                                text label\n",
              "0  Donald Trump just couldn t wish all Americans ...  fake\n",
              "1  House Intelligence Committee Chairman Devin Nu...  fake\n",
              "2  On Friday, it was revealed that former Milwauk...  fake\n",
              "3  On Christmas day, Donald Trump announced that ...  fake\n",
              "4  Pope Francis used his annual Christmas Day mes...  fake\n",
              "5  The number of cases of cops brutalizing and ki...  fake\n",
              "6  Donald Trump spent a good portion of his day a...  fake\n",
              "7  In the wake of yet another court decision that...  fake\n",
              "8  Many people have raised the alarm regarding th...  fake\n",
              "9  Just when you might have thought we d get a br...  fake"
            ]
          },
          "metadata": {},
          "execution_count": 42
        }
      ]
    },
    {
      "cell_type": "code",
      "metadata": {
        "colab": {
          "base_uri": "https://localhost:8080/",
          "height": 362
        },
        "id": "MF9vehbCd0GE",
        "outputId": "3a13de8c-fa71-4181-c835-937b03e7979c"
      },
      "source": [
        "true_df = pd.read_csv('True.csv',usecols=[\"text\"])\n",
        "\n",
        "true_df[\"label\"] = \"real\"\n",
        "\n",
        "true_df.head(10)"
      ],
      "execution_count": null,
      "outputs": [
        {
          "output_type": "execute_result",
          "data": {
            "text/html": [
              "<div>\n",
              "<style scoped>\n",
              "    .dataframe tbody tr th:only-of-type {\n",
              "        vertical-align: middle;\n",
              "    }\n",
              "\n",
              "    .dataframe tbody tr th {\n",
              "        vertical-align: top;\n",
              "    }\n",
              "\n",
              "    .dataframe thead th {\n",
              "        text-align: right;\n",
              "    }\n",
              "</style>\n",
              "<table border=\"1\" class=\"dataframe\">\n",
              "  <thead>\n",
              "    <tr style=\"text-align: right;\">\n",
              "      <th></th>\n",
              "      <th>text</th>\n",
              "      <th>label</th>\n",
              "    </tr>\n",
              "  </thead>\n",
              "  <tbody>\n",
              "    <tr>\n",
              "      <th>0</th>\n",
              "      <td>WASHINGTON (Reuters) - The head of a conservat...</td>\n",
              "      <td>real</td>\n",
              "    </tr>\n",
              "    <tr>\n",
              "      <th>1</th>\n",
              "      <td>WASHINGTON (Reuters) - Transgender people will...</td>\n",
              "      <td>real</td>\n",
              "    </tr>\n",
              "    <tr>\n",
              "      <th>2</th>\n",
              "      <td>WASHINGTON (Reuters) - The special counsel inv...</td>\n",
              "      <td>real</td>\n",
              "    </tr>\n",
              "    <tr>\n",
              "      <th>3</th>\n",
              "      <td>WASHINGTON (Reuters) - Trump campaign adviser ...</td>\n",
              "      <td>real</td>\n",
              "    </tr>\n",
              "    <tr>\n",
              "      <th>4</th>\n",
              "      <td>SEATTLE/WASHINGTON (Reuters) - President Donal...</td>\n",
              "      <td>real</td>\n",
              "    </tr>\n",
              "    <tr>\n",
              "      <th>5</th>\n",
              "      <td>WEST PALM BEACH, Fla./WASHINGTON (Reuters) - T...</td>\n",
              "      <td>real</td>\n",
              "    </tr>\n",
              "    <tr>\n",
              "      <th>6</th>\n",
              "      <td>WEST PALM BEACH, Fla (Reuters) - President Don...</td>\n",
              "      <td>real</td>\n",
              "    </tr>\n",
              "    <tr>\n",
              "      <th>7</th>\n",
              "      <td>The following statements were posted to the ve...</td>\n",
              "      <td>real</td>\n",
              "    </tr>\n",
              "    <tr>\n",
              "      <th>8</th>\n",
              "      <td>The following statements were posted to the ve...</td>\n",
              "      <td>real</td>\n",
              "    </tr>\n",
              "    <tr>\n",
              "      <th>9</th>\n",
              "      <td>WASHINGTON (Reuters) - Alabama Secretary of St...</td>\n",
              "      <td>real</td>\n",
              "    </tr>\n",
              "  </tbody>\n",
              "</table>\n",
              "</div>"
            ],
            "text/plain": [
              "                                                text label\n",
              "0  WASHINGTON (Reuters) - The head of a conservat...  real\n",
              "1  WASHINGTON (Reuters) - Transgender people will...  real\n",
              "2  WASHINGTON (Reuters) - The special counsel inv...  real\n",
              "3  WASHINGTON (Reuters) - Trump campaign adviser ...  real\n",
              "4  SEATTLE/WASHINGTON (Reuters) - President Donal...  real\n",
              "5  WEST PALM BEACH, Fla./WASHINGTON (Reuters) - T...  real\n",
              "6  WEST PALM BEACH, Fla (Reuters) - President Don...  real\n",
              "7  The following statements were posted to the ve...  real\n",
              "8  The following statements were posted to the ve...  real\n",
              "9  WASHINGTON (Reuters) - Alabama Secretary of St...  real"
            ]
          },
          "metadata": {},
          "execution_count": 43
        }
      ]
    },
    {
      "cell_type": "code",
      "metadata": {
        "colab": {
          "base_uri": "https://localhost:8080/",
          "height": 362
        },
        "id": "y7SwjTjjeLHz",
        "outputId": "70ee3193-8dbd-4cd0-a332-7cf2cc661486"
      },
      "source": [
        "full_df = pd.concat([fake_df, true_df], axis=0)\n",
        "\n",
        "print(full_df.head(10))\n",
        "print(full_df.tail(10))"
      ],
      "execution_count": null,
      "outputs": [
        {
          "output_type": "execute_result",
          "data": {
            "text/html": [
              "<div>\n",
              "<style scoped>\n",
              "    .dataframe tbody tr th:only-of-type {\n",
              "        vertical-align: middle;\n",
              "    }\n",
              "\n",
              "    .dataframe tbody tr th {\n",
              "        vertical-align: top;\n",
              "    }\n",
              "\n",
              "    .dataframe thead th {\n",
              "        text-align: right;\n",
              "    }\n",
              "</style>\n",
              "<table border=\"1\" class=\"dataframe\">\n",
              "  <thead>\n",
              "    <tr style=\"text-align: right;\">\n",
              "      <th></th>\n",
              "      <th>text</th>\n",
              "      <th>label</th>\n",
              "    </tr>\n",
              "  </thead>\n",
              "  <tbody>\n",
              "    <tr>\n",
              "      <th>0</th>\n",
              "      <td>Donald Trump just couldn t wish all Americans ...</td>\n",
              "      <td>fake</td>\n",
              "    </tr>\n",
              "    <tr>\n",
              "      <th>1</th>\n",
              "      <td>House Intelligence Committee Chairman Devin Nu...</td>\n",
              "      <td>fake</td>\n",
              "    </tr>\n",
              "    <tr>\n",
              "      <th>2</th>\n",
              "      <td>On Friday, it was revealed that former Milwauk...</td>\n",
              "      <td>fake</td>\n",
              "    </tr>\n",
              "    <tr>\n",
              "      <th>3</th>\n",
              "      <td>On Christmas day, Donald Trump announced that ...</td>\n",
              "      <td>fake</td>\n",
              "    </tr>\n",
              "    <tr>\n",
              "      <th>4</th>\n",
              "      <td>Pope Francis used his annual Christmas Day mes...</td>\n",
              "      <td>fake</td>\n",
              "    </tr>\n",
              "    <tr>\n",
              "      <th>5</th>\n",
              "      <td>The number of cases of cops brutalizing and ki...</td>\n",
              "      <td>fake</td>\n",
              "    </tr>\n",
              "    <tr>\n",
              "      <th>6</th>\n",
              "      <td>Donald Trump spent a good portion of his day a...</td>\n",
              "      <td>fake</td>\n",
              "    </tr>\n",
              "    <tr>\n",
              "      <th>7</th>\n",
              "      <td>In the wake of yet another court decision that...</td>\n",
              "      <td>fake</td>\n",
              "    </tr>\n",
              "    <tr>\n",
              "      <th>8</th>\n",
              "      <td>Many people have raised the alarm regarding th...</td>\n",
              "      <td>fake</td>\n",
              "    </tr>\n",
              "    <tr>\n",
              "      <th>9</th>\n",
              "      <td>Just when you might have thought we d get a br...</td>\n",
              "      <td>fake</td>\n",
              "    </tr>\n",
              "  </tbody>\n",
              "</table>\n",
              "</div>"
            ],
            "text/plain": [
              "                                                text label\n",
              "0  Donald Trump just couldn t wish all Americans ...  fake\n",
              "1  House Intelligence Committee Chairman Devin Nu...  fake\n",
              "2  On Friday, it was revealed that former Milwauk...  fake\n",
              "3  On Christmas day, Donald Trump announced that ...  fake\n",
              "4  Pope Francis used his annual Christmas Day mes...  fake\n",
              "5  The number of cases of cops brutalizing and ki...  fake\n",
              "6  Donald Trump spent a good portion of his day a...  fake\n",
              "7  In the wake of yet another court decision that...  fake\n",
              "8  Many people have raised the alarm regarding th...  fake\n",
              "9  Just when you might have thought we d get a br...  fake"
            ]
          },
          "metadata": {},
          "execution_count": 60
        }
      ]
    },
    {
      "cell_type": "code",
      "metadata": {
        "colab": {
          "base_uri": "https://localhost:8080/"
        },
        "id": "wfTSLHF_cXBG",
        "outputId": "00d8efd0-b56b-4fb6-af55-a6c12e071316"
      },
      "source": [
        "X_train, X_test, y_train, y_test = train_test_split(full_df.text, full_df.label, random_state=0, test_size=0.3)\n",
        "X_train = label_sentences(X_train, 'Train')\n",
        "X_test = label_sentences(X_test, 'Test')\n",
        "all_data = X_train + X_test\n",
        "all_data[:10]"
      ],
      "execution_count": null,
      "outputs": [
        {
          "output_type": "execute_result",
          "data": {
            "text/plain": [
              "[TaggedDocument(words=['WASHINGTON', '(Reuters)', '-', 'Former', 'New', 'York', 'Mayor', 'Michael', 'Bloomberg', 'said', 'on', 'Monday', 'he', 'would', 'not', 'mount', 'an', 'independent', 'bid', 'for', 'the', 'U.S.', 'presidency', 'because', 'he', 'feared', 'it', 'would', 'increase', 'the', 'chances', 'that', 'Republicans', 'Donald', 'Trump', 'or', 'Ted', 'Cruz', 'could', 'end', 'up', 'in', 'the', 'White', 'House.', 'A', 'billionaire', 'media', 'mogul', 'who', 'combined', 'business-friendly', 'fiscal', 'policies', 'with', 'liberal', 'views', 'on', 'gun', 'control', 'and', 'other', 'social', 'issues,', 'Bloomberg', 'could', 'have', 'potentially', 'appealed', 'to', 'centrist', 'voters', 'in', 'a', 'year', 'when', 'candidates', 'from', 'the', 'far', 'left', 'and', 'right', 'of', 'the', 'political', 'spectrum', 'have', 'gained', 'traction.', 'But', 'Bloomberg,', '74,', 'said', 'he', 'had', 'concluded', 'that', 'any', 'candidate', 'would', 'be', 'unlikely', 'to', 'win', 'a', 'clear', 'majority', 'in', 'a', 'three-person', 'race.', 'That', 'would', 'throw', 'the', 'election', 'into', 'the', 'Republican-controlled', 'House', 'of', 'Representatives,', 'which', 'would', 'be', 'able', 'to', 'hand', 'the', 'White', 'House', 'to', 'Trump,', 'a', 'real-estate', 'billionaire,', 'or', 'Cruz,', 'a', 'conservative', 'U.S.', 'senator', 'from', 'Texas.', '“That', 'is', 'not', 'a', 'risk', 'I', 'can', 'take', 'in', 'good', 'conscience,”', 'he', 'wrote', 'on', 'Bloomberg', 'View,', 'an', 'opinion', 'website', 'that', 'is', 'part', 'of', 'his', 'media', 'empire.', 'Bloomberg', 'never', 'received', 'much', 'interest', 'from', 'American', 'voters.', 'About', '12', 'percent', 'of', 'likely', 'voters', 'said', 'they', 'would', 'support', 'him', 'in', 'a', 'three-way', 'race', 'for', 'president', 'with', 'Democrat', 'Hillary', 'Clinton', 'and', 'Trump,', 'according', 'to', 'a', 'Reuters/Ipsos', 'national', 'poll', 'conducted', 'from', 'Wednesday', 'to', 'Monday.', 'Among', 'respondents,', '41', 'percent', 'said', 'they', 'would', 'support', 'Clinton', 'and', '31', 'percent', 'would', 'support', 'Trump.', 'The', 'poll', 'of', '1,695', 'likely', 'voters', 'had', 'a', 'credibility', 'interval', 'of', '3', 'percentage', 'points.', 'Bloomberg', 'said', 'Trump,', 'who', 'is', 'leading', 'the', 'battle', 'to', 'win', 'the', 'Republican', 'nomination', 'for', 'the', 'Nov.', '8', 'election,', 'had', 'backed', 'policies', 'that', 'would', 'undermine', 'religious', 'tolerance', 'and', 'threaten', 'national', 'security.', 'Trump', 'has', 'called', 'for', 'building', 'a', 'wall', 'on', 'the', 'U.S.', 'border', 'with', 'Mexico,', 'deporting', 'the', 'country’s', 'illegal', 'immigrants', 'and', 'temporarily', 'barring', 'Muslims', 'from', 'entering', 'the', 'country.', '“He', 'has', 'run', 'the', 'most', 'divisive', 'and', 'demagogic', 'presidential', 'campaign', 'I', 'can', 'remember,', 'preying', 'on', 'people’s', 'prejudices', 'and', 'fears,”', 'Bloomberg', 'wrote', 'of', 'Trump.', 'He', 'said', 'Cruz,', 'a', 'favorite', 'of', 'evangelicals', 'and', 'the', 'conservative', 'Tea', 'Party', 'movement,', 'was', 'divisive', 'as', 'well.', 'Bloomberg', 'also', 'hit', 'out', 'at', 'Clinton', 'and', 'her', 'rival', 'for', 'the', 'Democratic', 'nomination,', 'U.S.', 'Senator', 'Bernie', 'Sanders', 'from', 'Vermont,', 'for', 'criticizing', 'free', 'trade', 'and', 'the', 'financial', 'industry.', '“Extremism', 'is', 'on', 'the', 'march,', 'and', 'unless', 'we', 'stop', 'it,', 'our', 'problems', 'at', 'home', 'and', 'abroad', 'will', 'grow', 'worse,”', 'he', 'wrote.', 'Spokespeople', 'for', 'Trump', 'and', 'Cruz', 'did', 'not', 'immediately', 'respond', 'to', 'requests', 'for', 'comment', 'about', 'Bloomberg’s', 'criticism.', 'Bloomberg', 'founded', 'and', 'is', 'majority', 'owner', 'of', 'Bloomberg', 'L.P.,', 'a', 'news', 'and', 'financial', 'information', 'provider', 'that', 'competes', 'with', 'Thomson', 'Reuters', 'Corp', 'TRI.TO.', 'The', 'fear', 'of', 'a', 'general', 'election', 'contest', 'between', 'Trump', 'and', 'Sanders,', 'a', 'democratic', 'socialist,', 'had', 'driven', 'Bloomberg', 'to', 'begin', 'seriously', 'exploring', 'an', 'independent', 'run,', 'a', 'senior', 'adviser', 'said', 'on', 'condition', 'of', 'anonymity.', 'But', 'with', 'Clinton', 'pulling', 'away', 'from', 'Sanders', 'in', 'the', 'Democratic', 'race,', 'Bloomberg', 'concluded', 'the', 'path', 'to', 'victory', 'and', 'the', 'rationale', 'for', 'running', 'were', 'gone,', 'the', 'aide', 'said.', 'Clinton', 'reacted', 'to', 'the', 'news', 'with', 'polite', 'praise,', 'saying', 'she', 'had', 'the', '“greatest', 'respect”', 'for', 'Bloomberg.', '“He', 'has', 'to', 'make', 'his', 'own', 'decisions,', 'but', 'I', 'look', 'forward', 'to', 'continuing', 'to', 'work', 'with', 'him,”', 'she', 'said', 'on', 'Fox', 'News.', 'Sanders,', 'when', 'asked', 'about', 'Bloomberg’s', 'decision', 'not', 'to', 'run,', 'said', 'election', 'laws', 'should', 'be', 'changed', 'to', 'make', 'it', 'easier', 'for', 'people', 'who', 'are', 'not', 'rich,', 'or', 'not', 'friendly', 'with', 'rich', 'people,', 'to', 'run', 'for', 'office.', '“I', 'think', 'it’s', 'a', 'bad', 'idea', 'for', 'American', 'democracy', 'that', 'the', 'only', 'people', 'who', 'feel', 'in', 'many', 'ways', 'they', 'can', 'run', 'for', 'president', 'are', 'people', 'who', 'have', 'so', 'much', 'money,”', 'he', 'said', 'on', 'Fox', 'News.'], tags=['Train_0']),\n",
              " TaggedDocument(words=['In', 'another', 'Wikileaks', 'email', 'dump,', 'the', 'Hillary', 'camp', 'is', 'caught', 'bashing', 'the', 'Catholic', 'Church', 'yet', 'again.', 'In', 'the', 'email,', 'Catholic', 'John', 'Podesta,', 'Hillary', 's', 'Catholic', 'Campaign', 'Manager', 'talks', 'about', 'how', 'he', 'has', 'been', 'planting', 'the', 'seeds', 'of', 'progressivism', 'in', 'the', 'Catholic', 'church,', 'while', 'calling', 'Catholic', 'conservatives', 'an', 'amazing', 'bastardization', 'of', 'the', 'church.', 'Hillary', 'Clinton', 'At', 'War', 'With', 'Christ,', 'Christianity', '&', 'People', 'of', 'God', '#PodestaEmails5', 'Admits', 'Scheming', 'To', 'Destroy', 'An', 'Entire', 'Religion!', 'Donald', 'Trump', 'pic.twitter.com/7hP1WSsRfW', 'STOCK', 'MONSTER', '(@StockMonsterUSA)', 'October', '13,', '2016'], tags=['Train_1']),\n",
              " TaggedDocument(words=['WASHINGTON/NEW', 'YORK', '(Reuters)', '-', 'After', 'a', 'crackdown', 'on', 'illegal', 'immigration', 'that', 'has', 'sharply', 'reduced', 'the', 'number', 'of', 'unauthorized', 'border', 'crossings', 'from', 'Mexico,', 'U.S.', 'President', 'Donald', 'Trump', 'is', 'now', 'turning', 'his', 'attention', 'to', 'reducing', 'the', 'number', 'of', 'legal', 'immigrants', 'in', 'the', 'country.', 'The', 'White', 'House', 'is', 'throwing', 'its', 'support', 'behind', 'a', 'bill', 'developed', 'by', 'Republican', 'senators', 'Tom', 'Cotton', 'of', 'Arkansas', 'and', 'David', 'Perdue', 'of', 'Georgia', 'that', 'would', 'cut', 'legal', 'immigration', 'by', '50', 'percent', 'over', '10', 'years', 'by', 'reducing', 'the', 'kinds', 'of', 'relatives', 'immigrants', 'can', 'bring', 'into', 'the', 'country.', 'But', 'the', 'legislation', 'faces', 'an', 'uphill', 'climb', 'to', 'get', 'through', 'Congress', 'where', 'some', 'senior', 'Republicans', 'back', 'comprehensive', 'immigration', 'reform,', 'not', 'a', 'tough', 'crackdown.', 'Under', 'the', 'new', 'bill,', 'known', 'as', 'the', 'RAISE', 'Act,', 'the', 'United', 'States', 'would', 'prioritize', 'high-skilled', 'immigrants', 'by', 'setting', 'up', 'a', 'merits-based', 'system', 'similar', 'to', 'those', 'used', 'by', 'Canada', 'and', 'Australia.', 'Trump', 'and', 'the', 'Republican', 'lawmakers', 'blasted', 'the', 'current', 'immigration', 'system', 'as', 'out', 'of', 'date', 'and', 'argued', 'that', 'it', 'hurts', 'American', 'workers', 'by', 'driving', 'down', 'wages.', '“This', 'competitive', 'application', 'process', 'will', 'favor', 'applicants', 'who', 'can', 'speak', 'English,', 'financially', 'support', 'themselves', 'and', 'their', 'families', 'and', 'demonstrate', 'skills', 'that', 'will', 'contribute', 'to', 'our', 'economy,”', 'Trump', 'said.', 'The', 'Senators', 'said', 'they', 'worked', 'closely', 'with', 'the', 'White', 'House', 'on', 'this', 'latest', 'version', 'of', 'their', 'bill.', '“This', 'is', 'probably', 'our', 'third', 'or', 'fourth', 'visit', 'to', 'the', 'Oval', 'Office', 'to', 'work', 'with', 'President', 'Trump,”', 'Cotton', 'told', 'reporters.', 'Slashing', 'legal', 'immigration', 'has', 'long', 'been', 'pushed', 'by', 'low-immigration', 'advocacy', 'groups', 'in', 'Washington', 'like', 'NumbersUSA', 'and', 'the', 'ideas', 'have', 'been', 'backed', 'by', 'now-Attorney', 'General', 'Jeff', 'Sessions,', 'who', 'is', 'now', 'facing', 'public', 'criticism', 'from', 'Trump.', 'NumbersUSA', 'President', 'Roy', 'Beck', 'hailed', 'the', 'bill', 'and', 'said', 'that', 'it', '“will', 'do', 'more', 'than', 'any', 'other', 'action', 'to', 'fulfill', 'President', 'Trump’s', 'promises', 'as', 'a', 'candidate.”', 'Trump', 'vowed', 'to', 'crack', 'down', 'on', 'illegal', 'immigration', 'during', 'his', 'campaign', 'and', 'signed', 'two', 'executive', 'orders', 'soon', 'after', 'taking', 'office', 'to', 'increase', 'border', 'security', 'and', 'interior', 'enforcement.', 'Cotton', 'and', 'Perdue', 'said', 'their', 'bill', 'does', 'not', 'affect', 'temporary', 'visas', 'for', 'workers', 'in', 'certain', 'tech', 'sectors', 'and', 'seasonal', 'jobs', 'that', 'are', 'popular', 'with', 'many', 'businesses.', 'They', 'stressed', 'that', 'the', 'legislation', 'was', 'narrowly', 'focused,', 'an', 'approach', 'they', 'hoped', 'would', 'be', 'able', 'to', 'get', 'bipartisan', 'support.', '“We’re', 'not', 'trying', 'to', 'boil', 'the', 'ocean', 'here', 'and', 'change', 'everything', 'about', 'our', 'immigration', 'law,”', 'Cotton', 'said.', 'But', 'other', 'Republican', 'lawmakers', 'said', 'the', 'bill', 'might', 'be', 'going', 'too', 'far.', 'Senator', 'Lindsey', 'Graham,', 'from', 'South', 'Carolina,', 'said', 'his', 'state', 'is', 'dependent', 'on', 'immigrant', 'labor', 'to', 'sustain', 'the', 'two', 'biggest', 'sectors', 'of', 'the', 'economy,', 'agriculture', 'and', 'tourism.', 'Economists', 'have', 'called', 'into', 'the', 'question', 'the', 'benefits', 'of', 'cutting', 'legal', 'immigration.', 'FWD.us,', 'a', 'group', 'that', 'represents', 'the', 'tech', 'industry', 'said', 'that', 'the', 'bill', 'would', '“severely', 'harm', 'the', 'economy.”', 'The', 'bill', 'aims', 'to', 'end', 'the', 'diversity', 'visa', 'lottery,', 'which', 'allows', '50,000', 'people', 'from', 'underrepresented', 'countries', 'to', 'obtain', 'green', 'cards.', 'It', 'also', 'sets', 'a', '50,000', 'annual', 'cap', 'on', 'refugees,', 'instead', 'of', 'a', 'level', 'mandated', 'by', 'the', 'president.', 'Refugee', 'organizations', 'said', 'permanently', 'limiting', 'number', 'of', 'refugees', 'allowed', 'in', 'the', 'country', 'goes', 'against', 'an', 'American', 'value', 'of', 'offering', 'safe', 'haven', 'to', 'people', 'fleeing', 'violence', 'and', 'oppression.', 'Trump', 'suggested', 'at', 'an', 'event', 'in', 'New', 'York’s', 'Long', 'Island', 'on', 'Friday,', 'where', 'he', 'spoke', 'out', 'against', 'violence', 'committed', 'by', 'Central', 'American', 'gang', 'members,', 'that', 'immigrants', 'today', 'are', 'different', 'than', 'in', 'previous', 'generations.', '“What', 'happened', 'to', 'the', 'old', 'days', 'when', 'people', 'came', 'into', 'this', 'country', 'and', 'they', 'worked', 'and', 'they', 'worked', 'and', 'they', 'worked', 'and', 'they', 'had', 'families', 'and', 'paid', 'taxes', 'and', 'they', 'did', 'all', 'sorts', 'of', 'things', 'and', 'their', 'families', 'got', 'stronger', 'and', 'they', 'were', 'closely', 'knit?”', 'Trump', 'asked', 'the', 'audience', 'of', 'law', 'enforcement', 'officers.', '“We', 'don’t', 'see', 'that.”'], tags=['Train_2']),\n",
              " TaggedDocument(words=['Johnny', 'Carson', 'must', 'be', 'rolling', 'over', 'in', 'his', 'grave', 'to', 'see', 'what', 's', 'happened', 'to', 'late', 'night', 'comedy', 'where', 'he', 'dedicated', '30', 'years', 'of', 'his', 'life', 'to', 'actually', 'making', 'people', 'of', 'all', 'political', 'persuasions', 'laugh.', 'If', 'Johnny', 'Carson', 'had', 'a', 'particular', 'political', 'leaning,', 'his', 'viewers', 'wouldn', 't', 'have', 'known', 'what', 'it', 'was.', 'When', 'it', 'came', 'to', 'criticizing', 'President', 's', 'of', 'the', 'United', 'States,', 'he', 'was', 'always', 'funny', 'but', 'never', 'hateful', 'and', 'certainly', 'never', 'vile.', 'A', 'lot', 'has', 'changed', 'since', 'then.', 'It', 'wasn', 't', 'so', 'long', 'ago', 'that', 'comedians', 'like', 'Stephen', 'Colbert', 'only', 'dreamed', 'of', 'sitting', 'in', 'one', 'of', 'the', 'coveted', 'late', 'night', 'comedy', 'spots', 'like', 'the', 'one', 'Johnny', 'Carson', 'created.', 'David', 'Letterman', 's', 'hate', 'for', 'conservatives', 'and', 'Republicans', 'didn', 't', 'really', 'surfaced', 'until', 'he', 'was', 'nearing', 'the', 'end', 'of', 'his', 'career,', 'and', 'although', 'many', 'wish', 'he', 'would', 'keep', 'his', 'hateful', 'opinions', 'about', 'our', 'President', 'to', 'himself,', 'he', 'is', 'a', 'private', 'citizen', 'now', 'and', 'is', 'not', 'accountable', 'to', 'anyone', 'for', 'his', 'petty', 'remarks.', 'The', 'big', 'question', 'is,', 'will', 'anyone', 'at', 'CBS', 'hold', 'his', 'predecessor', 'Stephen', 'Colbert', 'responsible', 'for', 'his', 'vile', 'remarks', 'about', 'Trump', 'having', 'oral', 'sex', 'with', 'Vladimir', 'Putin?', 'Will', 'Colbert', 's', 'advertisers', 'pull', 'their', 'advertising', 'dollars', 'from', 'his', 'show', 'like', 'they', 'did', 'to', 'FOX', 'News', 'Bill', 'O', 'Reilly,', 'after', 'unproven', 'allegations', 'of', 'sexual', 'assault', 'were', 'made', 'against', 'him?As', 'sad', 'as', 'it', 'was', 'to', 'the', 'world', 'of', 'comedy', 'when', 'Johnny', 'Carson', 'passed', 'away,', 'it', 's', 'a', 'good', 'thing', 'he', 'isn', 't', 'able', 'to', 'see', 'how', 'that', 'the', 'hateful', 'and', 'spiteful', 'liberal', 'Stephen', 'Colbert', 'has', 'disgraced', 'and', 'replaced', 'what', 'once', 'was', 'considered', 'late-night', 'comedy.Last', 'night,', 'Stephen', 'Colbert', 'responded', 'to', '#FireColbert', 'backlash', 'over', 'a', 'crude', 'oral-sex', 'joke', 'he', 'made', 'about', 'President', 'Donald', 'Trump', 'and', 'Vladimir', 'Putin', 'on', 'Monday,', 'May', '1.', 'Trump', 'supporters', 'and', 'others', 'thought', 'the', 'comment', 'was', 'inappropriate', 'and', 'called', 'for', 'the', 'comedian', 'to', 'be', 'dropped', 'from', 'the', 'CBS', 'show.The', 'TV', 'host,', '52,', 'opened', 'his', 'Wednesday,', 'May', '3,', 'episode', 'by', 'addressing', 'the', 'controversy.', 'Welcome', 'to', 'The', 'Late', 'Show,', 'he', 'said.', 'I', 'm', 'your', 'host,', 'Stephen', 'Colbert.', 'Still?', 'I', 'am', 'still', 'the', 'host?', 'I', 'm', 'still', 'the', 'host!', 'Colbert', 'went', 'on', 'to', 'explain', 'that', 'his', 'scathing', 'monologue', 'was', 'spurred', 'by', 'Trump', 'abruptly', 'ending', 'an', 'Oval', 'Office', 'interview', 'with', 'fellow', 'CBS', 'correspondent', 'John', 'Dickerson.', 'Now,', 'if', 'you', 'saw', 'my', 'monologue', 'Monday,', 'you', 'know', 'that', 'I', 'was', 'a', 'little', 'upset', 'at', 'Donald', 'Trump', 'for', 'insulting', 'a', 'friend', 'of', 'mine,', 'he', 'said.', 'So', 'at', 'the', 'end', 'of', 'that', 'monologue,', 'I', 'had', 'a', 'few', 'choice', 'insults', 'for', 'the', 'president', 'in', 'return.', 'I', 'don', 't', 'regret', 'that.', 'He,', 'I', 'believe,', 'can', 'take', 'care', 'of', 'himself.', 'I', 'have', 'jokes;', 'he', 'has', 'the', 'launch', 'codes.', 'So,', 'it', 's', 'a', 'fair', 'fight.', 'US', 'MagazineWatch', 'liberal', 'bully', 'Stephen', 'Colbert', 'and', 'his', 'childish', 'I', 'don', 't', 'regret', 'what', 'I', 'said', 'response', 'to', 'his', 'viewers:For', 'anyone', 'who', 'cares', 'to', 'watch', 'Colbert', 's', 'vulgar', 'remarks,', 'they', 'can', 'be', 'seen', 'in', 'the', 'video', 'below', 'at', 'around', 'the', '11:13', 'mark:'], tags=['Train_3']),\n",
              " TaggedDocument(words=['TOKYO', '(Reuters)', '-', 'Japan', 's', 'struggling', 'opposition', 'Democratic', 'Party', 'elected', 'former', 'foreign', 'minister', 'Seiji', 'Maehara', 'to', 'lead', 'the', 'party', 'on', 'Friday', 'as', 'it', 'tries', 'to', 'raise', 'its', 'single-digit', 'ratings', 'and', 'fend', 'off', 'a', 'challenge', 'by', 'a', 'new', 'group', 'with', 'ties', 'to', 'popular', 'Tokyo', 'Governor', 'Yuriko', 'Koike.', 'Maehara,', '55,', 'a', 'conservative', 'on', 'security', 'who', 'shares', 'Prime', 'Minister', 'Shinzo', 'Abe', 's', 'desire', 'to', 'revise', 'the', 'post-war,', 'pacifist', 'constitution,', 'takes', 'over', 'amid', 'speculation', 'that', 'Abe', 'may', 'call', 'a', 'snap', 'general', 'election', 'later', 'this', 'year', 'to', 'refresh', 'his', 'mandate.', 'Maehara', 'previously', 'held', 'the', 'Democrats', 'top', 'post', 'from', '2005-2006.', 'If', 'I', 'were', 'to', 'refer', 'now', 'to', 'a', 'change', 'in', 'government,', 'the', 'people', 'would', 'say,', 'Whatever', 'are', 'you', 'talking', 'about?', 'But', 'we', 'must', 'change', 'this', 'dangerous', 'political', 'situation', 'where', 'there', 'are', 'no', 'choices', 'except', 'the', '(ruling)', 'Liberal', 'Democratic', 'Party', 'or', 'hopes', 'for', 'something', 'whose', 'form', 'is', 'not', 'yet', 'known,', 'Maehara', 'told', 'his', 'fellow', 'party', 'members.', 'The', 'party,', 'an', 'often', 'fractious', 'mix', 'of', 'conservatives', 'and', 'liberals,', 'had', 'to', 'pick', 'a', 'new', 'chief', 'after', 'its', 'first', 'female', 'head,', 'Renho,', 'who', 'goes', 'by', 'one', 'name,', 'quit', 'having', 'failed', 'to', 'capitalize', 'on', 'Abe', 's', 'sagging', 'ratings,', 'eroded', 'by', 'suspected', 'cronyism', 'scandals', 'and', 'a', 'perception', 'he', 'was', 'complacent', 'after', '4-1/2', 'years', 'in', 'office.', 'Abe', 's', 'support', 'has', 'since', 'rebounded', 'off', 'lows', 'of', 'under', '30', 'percent', 'in', 'some', 'polls,', 'touching', '46', 'percent', 'in', 'a', 'survey', 'by', 'Nikkei', 'business', 'daily', 'in', 'late', 'August.', 'The', 'novice', 'Democratic', 'Party', 'surged', 'to', 'power', 'in', '2009,', 'ousting', 'the', 'long-ruling', 'LDP', 'with', 'promises', 'to', 'put', 'individuals', 'ahead', 'of', 'companies', 'and', 'address', 'social', 'inequalities.', 'But', 'many', 'voters', 'still', 'have', 'bad', 'memories', 'of', 'its', 'rule,', 'which', 'was', 'plagued', 'by', 'infighting,', 'policy', 'flip-flops', 'and', 'unkept', 'promises.', 'Abe', 'led', 'the', 'LDP', 'to', 'a', 'huge', 'victory', 'in', 'December', '2012.', 'The', 'Democrats', 'could', 'face', 'a', 'new', 'threat', 'if', 'efforts', 'by', 'backers', 'of', 'former', 'LDP', 'lawmaker', 'Koike', 'to', 'create', 'a', 'new', 'nationwide', 'opposition', 'party', 'bear', 'fruit.', 'Her', 'Tokyo', 'Citizens', 'First', 'party', 'dealt', 'the', 'LDP', 'a', 'historic', 'defeat', 'in', 'a', 'metropolitan', 'assembly', 'election', 'last', 'month,', 'spurring', 'talk', 'it', 'could', 'evolve', 'into', 'a', 'Japan', 'First', 'party', 'to', 'field', 'candidates', 'in', 'a', 'general', 'election', 'that', 'must', 'be', 'held', 'by', 'late', '2018.', 'Speculation', 'is', 'simmering', 'that', 'Abe', 'could', 'call', 'a', 'snap', 'election', 'as', 'early', 'as', 'October,', 'to', 'take', 'advantage', 'of', 'opposition', 'disarray,', 'though', 'he', 'd', 'risk', 'losing', 'the', 'ruling', 'bloc', 's', 'super', 'majority', 'in', 'the', 'lower', 'house.', 'Maehara', 'defeated', 'liberal', 'rival', 'Yukio', 'Edano,', 'a', 'former', 'chief', 'cabinet', 'secretary', 'during', 'the', 'Democrats', 'days', 'in', 'power.'], tags=['Train_4']),\n",
              " TaggedDocument(words=['Tune', 'in', 'to', 'the', 'Alternate', 'Current', 'Radio', 'Network', '(ACR)', 'for', 'another', 'LIVE', 'broadcast', 'of', 'The', 'Boiler', 'Room', 'tonight', '6:00', 'PM', 'PST', '|', '8:00', 'PM', 'CST', '|', '9:00', 'PM', 'EST', 'for', 'this', 'special', 'broadcast.', 'Join', 'us', 'for', 'uncensored,', 'uninterruptible', 'talk', 'radio,', 'custom-made', 'for', 'bar', 'fly', 'philosophers,', 'misguided', 'moralists,', 'masochists,', 'street', 'corner', 'evangelists,', 'media-maniacs,', 'savants,', 'political', 'animals', 'and', 'otherwise', 'lovable', 'rascals.Join', 'ACR', 'hosts', 'Hesher', 'and', 'Spore', 'along', 'side', 'Jay', 'Dyer', 'of', 'Jays', 'Analysis,', 'Shawn', 'Helton', '(of', '21st', 'Century', 'Wire)', 'Andy', 'Nowicki', '(The', 'Nameless', 'One)', '&', 'Randy', 'J', '(ACR', '&', '21Wire', 'Contributor)', 'for', 'the', 'hundred', 'and', 'thirty', 'second', 'episode', 'of', 'BOILER', 'ROOM.', 'Turn', 'it', 'up,', 'tune', 'in', 'and', 'hang', 'with', 'the', 'ACR', 'Brain-Trust', 'for', 'this', 'weeks', 'boil', 'downs', 'and', 'analysis', 'and', 'the', 'usual', 'gnashing', 'of', 'the', 'teeth', 'of', 'the', 'political', 'animals', 'in', 'the', 'social', 'reject', 'club.On', 'this', 'episode', 'of', 'Boiler', 'Room', 'the', 'ACR', 'Brain-Trust', 'is', 'further', 'analyzing', 'aspects', 'of', 'the', 'Las', 'Vegas', 'Mandalay', 'Bay', 'mass', 'shooting', 'event', 'with', 'Shawn', 'Helton', 'joining', 'to', 'share', 'his', 'latest', 'discovery', 'with', 'this', 'exclusive', '21Wire/ACR', 'report.', 'Shawn', 'uncovers', 'connections', 'between', 'the', 'Phoenix', 'charity', 'foundation', 'co-founded', 'by', 'Kymberley', 'Suchomel,', 'a', 'survivor', 'of', 'the', 'Las', 'Vegas', 'shooting,', 'and', 'the', 'well', 'known', 'DHS', 'related', 'Geo', 'Group.', 'Kymberley', 'Suchomel', 'is', 'reported', 'to', 'have', 'died', 'suddenly', 'on', 'October', '9th,', 'of', 'apparent', 'known', 'health', 'conditions.', 'The', 'reason', 'why', 'the', 'Geo', 'Group', 'link', 'is', 'so', 'significant,', 'is', 'that', 'prior', 'to', 'modern', 'America', 's', 'largest', 'mass', 'shooting', 'in', 'Las', 'Vegas,', 'an', 'apparent', 'survivor', 'of', 'the', 'incident', 'was', 'operating', 'a', 'foundation', 'that', 'was', 'accepting', 'financial', 'support', 'from', 'a', 'large-scale', 'company', 'formerly', 'known', 'as', 'The', 'Wackenhut', 'Corporation,', 'a', 'subsidiary', 'of', 'G4S', 'Secure', 'Solutions,', 'one', 'of', 'the', 'world', 's', 'largest', 'security', 'firms,', 'and', 'a', 'Department', 'of', 'Homeland', 'Security', 'connected', 'conglomerate', 'tied', 'to', 'the', 'suspicious', 'Orlando', 'shooting', 'in', 'the', 'summer', 'of', '2016', 'an', 'event,', 'that', 'was', 'previously', 'the', 'country', 's', 'largest', 'mass', 'shooting.', 'Direct', 'Download', 'Episode', '#132', 'Please', 'like', 'and', 'share', 'the', 'program', 'and', 'visit', 'our', 'donate', 'page', 'to', 'get', 'involved!', 'Reference', 'Links,', 'for', 'your', 'consideration', 'and', 'research:'], tags=['Train_5']),\n",
              " TaggedDocument(words=['When', 'Trump', 's', 'White', 'House', 'released', 'a', 'list', 'of', 'terrorist', 'attacks', 'they', 'say', 'the', 'media', 'did', 'not', 'cover,', 'one', 'thing', 'was', 'clear:', 'the', 'dictionary', 'is', 'the', 'Trump', 'administration', 's', 'worst', 'enemy.', 'Attacker', 'was', 'spelled', 'attaker,', 'the', 'list', 'referenced', 'a', 'country', 'called', 'Denmakr,', 'San', 'Bernardino', 'was', 'missing', 'an', 'r,', 'and', 'so', 'on.', 'Eventually,', 'the', 'Merriam-Webster', 'dictionary', 'caught', 'wind', 'of', 'the', 'error-ridden', 'list', 'and', 'offered', 'some', 'advice.', 'Reminder', 'that', 'our', 'app', 'has', 'voice', 'search,', 'so', 'you', 'can', 'look', 'a', 'word', 'up', 'even', 'if', 'you', 're', 'not', 'sure', 'how', 'it', 's', 'spelled,', 'the', 'Dictionary', 'tweeted,', 'adding', 'a', 'link', 'to', 'their', '(', 'there', 'in', 'Trumpspeak)', 'app.Reminder', 'that', 'our', 'app', 'has', 'voice', 'search,', 'so', 'you', 'can', 'look', 'a', 'word', 'up', 'even', 'if', \"you're\", 'not', 'sure', 'how', \"it's\", 'spelled.', 'https://t.co/gAH5JjwU32', 'https://t.co/oyxk2zwpWO', 'Merriam-Webster', '(@MerriamWebster)', 'February', '7,', '2017This', 'one', 'was', 'more', 'subtle', 'than', 'the', 'more', 'recent', 'times', 'that', 'the', 'Dictionary', 'has', 'smacked', 'Trump', 'around', 'like', 'when', 'he', 'tweeted', 'about', 'unpresidented', 'acts', 'or', 'when', 'Sean', 'Spicer', 'couldn', 't', 'define', 'betrayal', 'but', 'it', 'was', 'clear', 'what', 'Merriam-Webster', 'was', 'saying,', 'and', 'people', 'couldn', 't', 'be', 'happier', 'with', 'the', 'shade', 'that', 'was', 'thrown:@MerriamWebster', '????Was', 'that', 'an', 'attak?', 'Krista', 'Ritzman', 'Reed', '(@smokelvr)', 'February', '7,', '2017.@MerriamWebster', 'pic.twitter.com/xzHNf1kLTH', 'Alt-Thin', 'Brown', '(@jteeDC)', 'February', '7,', '2017@MerriamWebster', 'you', 'guys', 'are', 'certainly', 'winning', 'at', 'internet.', 'pic.twitter.com/eesiHbOscx', 'Wendy', 'Lady', '(@NerdRage42)', 'February', '7,', '2017@MerriamWebster', 'Whatever', 'this', 'company', 'pays', 'you,', 'oh', 'Twitter', 'person,', 'it', \"isn't\", 'enough.', 'I', 'never', 'thought', 'I', 'would', 'enjoy', 'following', 'a', 'dictionary', 'so.', 'CLLynch', '(@lynchauthor)', 'February', '7,', '2017@MerriamWebster', 'oh,', 'dictionary,', \"you're\", 'so', 'salty.', 'Paging', 'Mrs.', 'Herman', '(@THerman23)', 'February', '7,', '2017@MerriamWebster', \"I've\", 'never', 'loved', 'a', 'dictionary', 'so', 'much.', 'Lee', 'Koh', '(@eunleekoh)', 'February', '7,', '2017@MerriamWebster', '@noropthony', 'Burn', 'level,', 'EPIC!', 'Epic:', '2', 'a', ':', 'extending', 'beyond', 'the', 'usual', 'or', 'ordinary', 'especially', 'in', 'size', 'or', 'scope', 'Tracy', 'JSM', '(@Trinityapp)', 'February', '7,', '2017@MerriamWebster', 'our', 'country', 'is', 'going', 'to', 'be', 'saved', 'by', 'Merriam-Webster.', 'Kendra', 'Kendall', '(@kikuandjuju)', 'February', '7,', '2017@MerriamWebster', 'on', 'that', 'low-key', 'spelling', 'shade', '??', 'goldee-loxs?', '(@goldee_loxs)', 'February', '7,', '2017Merriam-Webster', 'later', 'announced', 'they', 'added', 'shade', 'to', 'the', 'dictionary', 'We', 'added', 'shade', 'to', 'the', 'dictionary.', 'https://t.co/dbxSsggzLo', 'pic.twitter.com/4bpkoJVvAF', 'Merriam-Webster', '(@MerriamWebster)', 'February', '7,', '2017', 'followed', 'by', 'side-eye.', \"'Side-eye'\", 'is', 'now', 'in', 'the', 'dictionary.', 'Our', 'earliest', 'example', 'of', 'it', 'in', 'use', 'comes', 'from', '1797.', '(GIF', 'by', '@GIPHY', 'Studios.)', 'https://t.co/ClvewjDi0K', 'pic.twitter.com/3bhMrce7F0', 'Merriam-Webster', '(@MerriamWebster)', 'February', '8,', '2017They', 'even', 're-added', 'a', 'new', '(old),', 'fun', 'term', 'to', 'call', 'Donald', 'Trump:Yes', 'like', 'snollygoster,', '\"a', 'shrewd', '&', 'unprincipled', 'person,', 'especially', 'an', 'unprincipled', 'politician.\"', 'Just', 'added', 'it', 'back.', 'https://t.co/DsYIshSZDU', 'https://t.co/lv5HKPyNum', 'Merriam-Webster', '(@MerriamWebster)', 'February', '7,', '2017But', 'they', 'were', 'clear', 'that', 'of', 'the', '1,000', 'new', 'words', 'added', 'to', 'the', 'dictionary,', 'unpresidented', 'is', 'not', 'one', 'of', 'them:@MerriamWebster', 'Is', 'unpresidented', 'one', 'of', 'them?', 'Caitlin', 'Luce', 'Baker', '(@Cait_onthe_Luce)', 'February', '7,', '2017No.', 'https://t.co/F62W8BBmHl', 'Merriam-Webster', '(@MerriamWebster)', 'February', '7,', '2017Trump', 's', 'team', 'is', 'built', 'from', 'the', 'absolute', 'worst', 'our', 'country', 'has', 'to', 'offer:', 'white', 'supremacists,', 'warmongers,', 'corporate', 'warlords,', 'and', 'the', 'absolute', 'dumbest', 'people', 'one', 'could', 'ever', 'imagine.In', 'just', 'a', 'few', 'weeks,', 'Donald', 'Trump', 'has', 'managed', 'to', 'make', 'a', 'mockery', 'of', 'almost', 'every', 'aspect', 'of', 'our', 'government,', 'appointing', 'a', 'slew', 'of', 'unqualified', 'people', 'to', 'positions', 'they', 'should', 'never', 'be', 'near', 'and', 'even', 'getting', 'tricked', 'into', 'making', 'a', 'white', 'supremacist', 'one', 'of', 'the', 'most', 'powerful', 'men', 'in', 'the', 'country.Take', 'the', 'time', 'to', 'laugh,', 'but', 'be', 'sure', 'to', 'resist', 'the', 'snollygoster', 'in', 'the', 'White', 'House', 'in', 'every', 'way', 'you', 'can', 'for', 'the', 'next', 'four', 'years', 'or,', 'of', 'course,', 'until', 'he', 'is', 'ultimately', 'impeached', 'for', 'being', 'completely', 'and', 'utterly', 'incompetent.Featured', 'image', 'via', 'Getty', 'Images', '(Pool)/screengrab'], tags=['Train_6']),\n",
              " TaggedDocument(words=['CNN', 'published', 'a', 'hate', 'group', 'map', 'and', 'list', 'from', 'the', 'Southern', 'Poverty', 'Law', 'Center', 'that', 'targeted', 'many', 'Christian', 'Organizations.', 'The', 'organizations', 'are', 'fearful', 'for', 'their', 'safety', 'after', 'the', 'bogus', 'hate', 'map', 'with', 'the', 'headline,', 'Here', 'are', 'all', 'the', 'active', 'hate', 'groups', 'where', 'you', 'live.', 'The', 'Southern', 'Poverty', 'Law', 'Center', 'will', 'have', 'blood', 'on', 'their', 'hands', 'if', 'they', 'cause', 'the', 'injury', 'of', 'anyone', 'in', 'these', 'Christian', 'groups.', 'It', 's', 'bad', 'enough', 'that', 'they', 'labeled', 'these', 'groups', 'as', 'hate', 'groups', 'but', 'now', 'the', 'people', 'in', 'the', 'groups', 'are', 'fearful.Todd', 'Starnes', 'of', 'Townhall', 'reported:The', 'list', 'included', 'among', 'others', 'American', 'Family', 'Association,', 'Family', 'Research', 'Council,', 'Alliance', 'Defending', 'Freedom,', 'Liberty', 'Counsel', 'and', 'Pacific', 'Justice', 'Institute.American', 'Family', 'Association', 'blasted', 'the', 'CNN', 'story', 'calling', 'it', 'a', 'sham', 'news', 'article', 'that', 'could', 'easily', 'incite', 'violence', 'and', 'place', 'AFA', 'employees', 'and', 'supporters', 'in', 'harm', 's', 'way.', 'Liberty', 'Counsel', 'President', 'Mat', 'Staver', 'demanded', 'an', 'immediate', 'retraction', 'calling', 'CNN', 's', 'report', 'false,', 'defamatory', 'and', 'dangerous.', 'Liberty', 'Counsel', 'is', 'not', 'a', 'hate', 'group,', 'he', 'said.', 'The', 'false', 'hate', 'label', 'is', 'very', 'damaging', 'to', 'our', 'reputation', 'and', 'is', 'a', 'safety', 'risk', 'to', 'our', 'staff.', 'Liberty', 'Counsel', 'is', 'a', 'Christian', 'ministry,', 'and', 'hates', 'no', 'one.', 'Conservatives', 'and', 'Christians', 'have', 'good', 'reason', 'to', 'be', 'worried.In', '2012,', 'Floyd', 'Lee', 'Corkins', 'opened', 'fire', 'inside', 'Family', 'Research', 'Council', 'headquarters', 'in', 'Washington,', 'D.C.', 'A', 'security', 'guard', 'was', 'shot', 'and', 'wounded.The', 'domestic', 'terrorist', 'told', 'police', 'he', 'wanted', 'to', 'kill', 'as', 'many', 'employees', 'as', 'possible', 'to', 'intimidate', 'opponents', 'of', 'same-sex', 'marriage.', 'Corkins', 'brought', 'along', 'Chick-fil-A', 'sandwiches,', 'which', 'he', 'intended', 'to', 'smear', 'on', 'the', 'faces', 'of', 'dead', 'staffers.Corkins', 'told', 'authorities', 'that', 'he', 'picked', 'his', 'target', 'using', 'the', 'Southern', 'Poverty', 'Law', 'Center', 's', 'so-called', 'hate', 'map.', 'Family', 'Research', 'Council', 'President', 'Tony', 'Perkins', 'appeared', 'on', 'my', 'nationally', 'syndicated', 'radio', 'show', 'Thursday', 'to', 'condemn', 'CNN', 'for', 'using', 'material', 'from', 'an', 'organization', 'that', 'is', 'an', 'attack', 'dog', 'of', 'the', 'Left.', 'They', 'are', 'not', 'a', 'neutral', 'arbiter', 'that', 'is', 'calling', 'balls', 'and', 'strikes.', 'They', 'are', 'on', 'the', 'field', 'playing.', 'They', 'are', 'pushing', 'an', 'agenda', 'and', 'anyone', 'who', 'opposes', 'them', 'they', 'slap', 'a', 'label', 'on', 'them,', 'Perkins', 'told', 'me.', 'They', 'are', 'inciting', 'violence', 'and', 'it', 'needs', 'to', 'stop,', 'he', 'added.READ', 'MORE:', 'TOWNHALL'], tags=['Train_7']),\n",
              " TaggedDocument(words=['Republican', 'presidential', 'nominee', 'Donald', 'Trump', 'wants', 'to', 'pretend', 'that', 'he', 's', 'for', 'the', 'working', 'man,', 'that', 'he', 'understands', 'their', 'struggles.', 'The', 'truth', 'is,', 'though,', 'that', 'Trump', 'is', 'a', 'rich,', 'spoiled', 'brat', 'who', 'has', 'never', 'known', 'poverty', 'or', 'what', 'it', 'is', 'like', 'to', 'worry', 'where', 'his', 'next', 'meal', 'or', 'rent', 'check', 'was', 'coming', 'from.', 'That', 's', 'the', 'reality', 'for', 'many', 'average', 'Americans,', 'and', 'he', 'doesn', 't', 'have', 'a', 'clue', 'about', 'it.', 'One', 'person', 'who', 'understands', 'this', 'is', 'Cleveland', 'Cavaliers', 'basketball', 'great', 'LeBron', 'James.James', 'wrote', 'a', 'passionate', 'op-ed', 'in', 'Business', 'Insider,', 'in', 'which', 'he', 'laid', 'out', 'the', 'reasons', 'he', 'is', 'endorsing', 'and', 'supporting', 'Democratic', 'presidential', 'nominee', 'Hillary', 'Clinton.', 'James', 'writes:', 'As', 'a', 'kid,', 'I', 'didn', 't', 'have', 'much', 'money.', 'It', 'was', 'just', 'my', 'mom', 'and', 'me,', 'and', 'things', 'were', 'rough', 'at', 'times.', 'But', 'I', 'had', 'basketball.', 'That', 'gave', 'me', 'a', 'family,', 'a', 'community,', 'and', 'an', 'education.', 'That', 's', 'more', 'than', 'a', 'lot', 'of', 'children', 'in', 'Akron', 'can', 'say.If', 'basketball', 'has', 'taught', 'me', 'anything,', 'it', 's', 'that', 'no', 'one', 'achieves', 'greatness', 'alone.', 'And', 'it', 'takes', 'everyone', 'working', 'together', 'to', 'create', 'real', 'change.When', 'I', 'look', 'at', 'this', 'year', 's', 'presidential', 'race,', 'it', 's', 'clear', 'which', 'candidate', 'believes', 'the', 'same', 'thing.', 'Only', 'one', 'person', 'running', 'truly', 'understands', 'the', 'struggles', 'of', 'an', 'Akron', 'child', 'born', 'into', 'poverty.', 'And', 'when', 'I', 'think', 'about', 'the', 'kinds', 'of', 'policies', 'and', 'ideas', 'the', 'kids', 'in', 'my', 'foundation', 'need', 'from', 'our', 'government,', 'the', 'choice', 'is', 'clear.That', 'candidate', 'is', 'Hillary', 'Clinton.', 'This', 'is', 'especially', 'significant', 'because', 'Ohio', 'is', 'a', 'state', 'where', 'James', 'is', 'pretty', 'much', 'worshipped,', 'and', 'it', 'is', 'also', 'a', 'state', 'that', 'is', 'seen', 'as', 'essential', 'for', 'winning', 'the', 'presidency.', 'This', 'is', 'an', 'opinion', 'that', 'holds', 'a', 'lot', 'of', 'weight', 'there.LeBron', 'James', 'embodies', 'the', 'American', 'dream,', 'as', 'does', 'Hillary', 'Clinton.', 'Hillary', 'was', 'raised', 'by', 'a', 'mother', 'who', 'began', 'working', 'at', 'the', 'age', 'of', '14', 'because', 'she', 'was', 'abandoned', 'by', 'her', 'parents', 'and', 'had', 'to', 'leave', 'the', 'home', 'of', 'grandparents', 'who', 'never', 'wanted', 'her', 'and', 'look', 'at', 'all', 'Hillary', 'became.', 'LeBron', 'James', 'was', 'a', 'poor', 'kid', 'raised', 'by', 'a', 'single', 'mom', 'who', 'became', 'one', 'of', 'the', 'most', 'revered', 'sports', 'stars', 'in', 'the', 'country.', 'In', 'contrast,', 'Donald', 'Trump', 'never', 'worked', 'for', 'anything', 'he', 'has.', 'He', 'inherited', 'it.', 'He', 's', 'really', 'good', 'at', 'being', 'a', 'spoiled,', 'entitled', 'rich', 'kid', 'who', 'has', 'never', 'cared', 'about', 'anything', 'but', 'himself', 'and', 'his', 'brand.', 'Do', 'we', 'really', 'want', 'that', 'as', 'president?', 'I', 'certainly', 'don', 't.Thanks,', 'LeBron.', '#ImWithHer,', 'too.Featured', 'image', 'via', 'David', 'Liam', 'Kyle/NBAE', 'via', 'Getty', 'Images'], tags=['Train_8']),\n",
              " TaggedDocument(words=['Members', 'of', 'a', 'congressional', 'committee', 'ripped', 'Obama', 'and', 'his', 'attorney', 'general', 'for', 'covering', 'up', 'an', 'investigation', 'into', 'the', 'death', 'of', 'Border', 'Patrol', 'agent', 'Brian', 'Terry.', 'Terry', 'was', 'killed', 'as', 'a', 'result', 'of', 'a', 'botched', 'government', 'gun-running', 'project', 'known', 'as', 'Operation', 'Fast', 'and', 'Furious:The', 'House', 'Oversight', 'Committee', 'also', 'Wednesday', 'released', 'a', 'scathing,', 'nearly', '300-page', 'report', 'that', 'found', 'Holder', 's', 'Justice', 'Department', 'tried', 'to', 'hide', 'the', 'facts', 'from', 'the', 'loved', 'ones', 'of', 'slain', 'Border', 'Patrol', 'Brian', 'Terry', 'seeing', 'his', 'family', 'as', 'more', 'of', 'a', 'nuisance', 'than', 'one', 'deserving', 'straight', 'answers', 'and', 'slamming', 'Obama', 's', 'assertion', 'of', 'executive', 'privilege', 'to', 'deny', 'Congress', 'access', 'to', 'records', 'pertaining', 'to', 'Fast', 'and', 'Furious.Senator', 'Grassley', 'accused', 'the', 'DOJ', 'and', 'ATF', 'officials', 'of', 'obstructing', 'the', 'investigation', 'and', 'working', 'to', 'silence', 'ATF', 'agents', 'who', 'informed', 'the', 'Senate', 'of', 'Fast', 'and', 'Furious:', 'The', 'Department', 'of', 'Justice', 'and', 'ATF', 'had', 'no', 'intention', 'of', 'looking', 'for', 'honest', 'answers', 'and', 'being', 'transparent.', 'In', 'fact,', 'from', 'the', 'onset,', 'bureaucrats', 'employed', 'shameless', 'delay', 'tactics', 'to', 'obstruct', 'the', 'investigation.', 'One', 'of', 'the', 'silenced', 'ATF', 'agents,', 'John', 'Dodson,', 'testified', 'Wednesday', 'that', 'he', 'remains', 'in', 'a', 'state', 'of', 'purgatory', 'since', 'objecting', 'to', 'Fast', 'and', 'Furious', 'and', 'has', 'been', 'the', 'subject', 'of', 'reprisals', 'and', 'ridicule', 'at', 'the', 'agency:', 'That', 'decision,', 'the', 'single', 'act', 'of', 'standing', 'up', 'and', 'saying,', 'What', 'we', 'are', 'doing', 'is', 'wrong', 'instantly', 'took', 'my', 'standing', 'from', 'being', 'that', 'of', 'an', 'agent', 'of', 'the', 'government', 'to', 'an', 'enemy', 'of', 'the', 'state.', 'ATF', 'and', 'DOJ', 'officials', 'implemented', 'an', 'all-out', 'campaign', 'to', 'silence', 'and', 'discredit', 'me.', 'Suffice', 'to', 'say,', 'the', 'last', 'six', 'to', 'seven', 'years', 'at', 'ATF', 'have', 'not', 'been', 'the', 'best', 'for', 'me', 'or', 'my', 'career.', 'Grassley', 's', 'and', 'Dodson', 's', 'testimony', 'reinforced', 'findings', 'of', 'the', 'report,', 'which', 'states', 'that', 'the', 'Justice', 'Department', 'knew', 'before', 'Terry', 's', 'death', 'that', 'the', 'ATF', 'was', 'walking', 'firearms', 'to', 'Mexico', 'and', 'knew', 'the', 'day', 'after', 'the', 'agent', 's', 'death', 'that', 'Fast', 'and', 'Furious', 'guns', 'were', 'involved', 'in', 'the', 'shootout', 'despite', 'denying', 'these', 'facts', 'to', 'the', 'media.', 'It', 'goes', 'on', 'to', 'state', 'that', 'the', 'Justice', 'Department', 's', 'internal', 'investigation', 'focused', 'more', 'on', 'spinning', 'the', 'story', 'to', 'avoid', 'negative', 'media', 'coverage', 'than', 'looking', 'into', 'lapses', 'by', 'either', 'the', 'DOJ', 'or', 'ATF.The', 'whistleblower', 'testimony', 'is', 'especially', 'compelling', 'at', 'the', '42:00', 'point', 'of', 'the', 'video:Several', 'emails', 'revealed', 'in', 'the', 'report', 'appear', 'to', 'indicate', 'that', 'some', 'Justice', 'Department', 'staffers', 'were', 'working', 'to', 'keep', 'information', 'from', 'political', 'appointees', 'at', 'the', 'department.', 'I', 'don', 't', 'want', 'to', 'jinx', 'it', 'but', 'it', 'really', 'is', 'astounding', 'that', 'the', 'plan', 'worked', 'so', 'far,', 'former', 'Deputy', 'Attorney', 'General', 'James', 'Cole', 'wrote', 'in', 'an', 'email', 'to', 'Holder,', 'according', 'to', 'the', 'report.The', 'report', 'also', 'says', 'that', 'Holder', 's', 'Justice', 'Department', 'stonewalled', 'inquiries', 'from', 'Sen.', 'Chuck', 'Grassley,', 'R-Iowa,', 'and', 'deceptively', 'told', 'him', 'that', 'the', 'ATF', 'makes', 'every', 'effort', 'to', 'interdict', 'firearms', 'purchased', 'by', 'straw', 'buyers.', 'There', 'are', 'important', 'reasons', 'for', 'not', 'giving', 'Grassley', 'everything', 'he', 'is', 'asking', 'for:', 'it', 'would', 'embolden', 'him', 'in', 'future', 'fights', 'and', 'would', 'use', 'up', 'a', 'lot', 'of', 'the', 'material', 'that', 'we', 'will', 'eventually', 'need', 'to', 'release', 'to', '(California', 'Rep.', 'Darrell)', 'Issa', '.', '.', '.', 'as', 'the', 'oversight', 'struggle', 'continues,', 'the', 'Office', 'of', 'Legislative', 'Affairs', 'Assistant', 'Attorney', 'General', 'Ron', 'Welch', 'said', 'in', 'an', 'email', 'to', 'DOJ', 'colleagues.Border', 'Patrol', 'Agent', 'Brian', 'Terry', 'died', 'in', 'a', 'gunfight', 'between', 'Border', 'Patrol', 'agents', 'and', 'members', 'of', 'a', 'six-man', 'cartel', 'rip', 'crew,', 'which', 'regularly', 'patrolled', 'the', 'desert', 'along', 'the', 'U.S.-Mexico', 'border', 'looking', 'for', 'drug', 'dealers', 'to', 'rob.Read', 'more:', 'FOX'], tags=['Train_9'])]"
            ]
          },
          "metadata": {},
          "execution_count": 62
        }
      ]
    },
    {
      "cell_type": "code",
      "metadata": {
        "colab": {
          "base_uri": "https://localhost:8080/"
        },
        "id": "UWOYH4sXfY0L",
        "outputId": "d81c6297-8d87-46e4-9f86-c321e2cf7e62"
      },
      "source": [
        "model_dbow = doc2vec.Doc2Vec(dm=0, vector_size=300, negative=5, min_count=1, alpha=0.065, min_alpha=0.065)\n",
        "model_dbow.build_vocab([x for x in tqdm(all_data)])"
      ],
      "execution_count": null,
      "outputs": [
        {
          "output_type": "stream",
          "name": "stderr",
          "text": [
            "100%|██████████| 44898/44898 [00:00<00:00, 2007888.65it/s]\n"
          ]
        }
      ]
    },
    {
      "cell_type": "code",
      "metadata": {
        "colab": {
          "base_uri": "https://localhost:8080/"
        },
        "id": "d--_8mbCfvMj",
        "outputId": "2f971dd1-a3ca-401d-8387-af6b05f975a6"
      },
      "source": [
        "for epoch in range(30):\n",
        "    model_dbow.train(utils.shuffle([x for x in tqdm(all_data)]), \n",
        "                     total_examples=len(all_data), \n",
        "                     epochs=1)\n",
        "    model_dbow.alpha -= 0.002\n",
        "    model_dbow.min_alpha = model_dbow.alpha"
      ],
      "execution_count": null,
      "outputs": [
        {
          "output_type": "stream",
          "name": "stderr",
          "text": [
            "100%|██████████| 44898/44898 [00:00<00:00, 1841287.73it/s]\n",
            "100%|██████████| 44898/44898 [00:00<00:00, 2237939.09it/s]\n",
            "100%|██████████| 44898/44898 [00:00<00:00, 2351772.87it/s]\n",
            "100%|██████████| 44898/44898 [00:00<00:00, 2409271.15it/s]\n",
            "100%|██████████| 44898/44898 [00:00<00:00, 2204871.40it/s]\n",
            "100%|██████████| 44898/44898 [00:00<00:00, 2749819.09it/s]\n",
            "100%|██████████| 44898/44898 [00:00<00:00, 2394018.14it/s]\n",
            "100%|██████████| 44898/44898 [00:00<00:00, 2150362.68it/s]\n",
            "100%|██████████| 44898/44898 [00:00<00:00, 3049748.35it/s]\n",
            "100%|██████████| 44898/44898 [00:00<00:00, 2187049.08it/s]\n",
            "100%|██████████| 44898/44898 [00:00<00:00, 2346147.32it/s]\n",
            "100%|██████████| 44898/44898 [00:00<00:00, 2223117.78it/s]\n",
            "100%|██████████| 44898/44898 [00:00<00:00, 2448681.63it/s]\n",
            "100%|██████████| 44898/44898 [00:00<00:00, 2272671.84it/s]\n",
            "100%|██████████| 44898/44898 [00:00<00:00, 2353007.06it/s]\n",
            "100%|██████████| 44898/44898 [00:00<00:00, 1944487.75it/s]\n",
            "100%|██████████| 44898/44898 [00:00<00:00, 2962711.38it/s]\n",
            "100%|██████████| 44898/44898 [00:00<00:00, 2456122.98it/s]\n",
            "100%|██████████| 44898/44898 [00:00<00:00, 3045408.19it/s]\n",
            "100%|██████████| 44898/44898 [00:00<00:00, 2716890.93it/s]\n",
            "100%|██████████| 44898/44898 [00:00<00:00, 2364796.77it/s]\n",
            "100%|██████████| 44898/44898 [00:00<00:00, 2272699.26it/s]\n",
            "100%|██████████| 44898/44898 [00:00<00:00, 3036324.16it/s]\n",
            "100%|██████████| 44898/44898 [00:00<00:00, 2038447.54it/s]\n",
            "100%|██████████| 44898/44898 [00:00<00:00, 2852968.03it/s]\n",
            "100%|██████████| 44898/44898 [00:00<00:00, 3097555.08it/s]\n",
            "100%|██████████| 44898/44898 [00:00<00:00, 2200028.75it/s]\n",
            "100%|██████████| 44898/44898 [00:00<00:00, 2672208.27it/s]\n",
            "100%|██████████| 44898/44898 [00:00<00:00, 3116780.22it/s]\n",
            "100%|██████████| 44898/44898 [00:00<00:00, 2908487.82it/s]\n"
          ]
        }
      ]
    },
    {
      "cell_type": "code",
      "metadata": {
        "id": "PFRgZ-wRf0v3"
      },
      "source": [
        "train_vectors_dbow = get_vectors(model_dbow, len(X_train), 300, 'Train')\n",
        "test_vectors_dbow = get_vectors(model_dbow, len(X_test), 300, 'Test')"
      ],
      "execution_count": null,
      "outputs": []
    },
    {
      "cell_type": "code",
      "metadata": {
        "colab": {
          "base_uri": "https://localhost:8080/"
        },
        "id": "ThAYmR6_f5f9",
        "outputId": "1a868281-e3c0-4e51-fc5c-9e108c59d752"
      },
      "source": [
        "from sklearn.svm import SVC\n",
        "\n",
        "model_svm = SVC(C=10, gamma='auto', kernel='rbf')\n",
        "model_svm.fit(train_vectors_dbow, y_train)\n",
        "\n",
        "y_pred = model_svm.predict(test_vectors_dbow)\n",
        "\n",
        "print('accuracy %s' % accuracy_score(y_pred, y_test))\n",
        "print(classification_report(y_test, y_pred))"
      ],
      "execution_count": null,
      "outputs": [
        {
          "output_type": "stream",
          "name": "stdout",
          "text": [
            "accuracy 0.9979955456570155\n",
            "              precision    recall  f1-score   support\n",
            "\n",
            "        fake       1.00      1.00      1.00      7025\n",
            "        real       1.00      1.00      1.00      6445\n",
            "\n",
            "    accuracy                           1.00     13470\n",
            "   macro avg       1.00      1.00      1.00     13470\n",
            "weighted avg       1.00      1.00      1.00     13470\n",
            "\n"
          ]
        }
      ]
    }
  ]
}