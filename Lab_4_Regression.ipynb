{
  "nbformat": 4,
  "nbformat_minor": 0,
  "metadata": {
    "colab": {
      "name": "Lab 4 - Regression.ipynb",
      "provenance": [],
      "collapsed_sections": []
    },
    "kernelspec": {
      "name": "python3",
      "display_name": "Python 3"
    },
    "language_info": {
      "name": "python"
    }
  },
  "cells": [
    {
      "cell_type": "markdown",
      "metadata": {
        "id": "0s5pGmYQJgob"
      },
      "source": [
        "# Dylan Tan\n",
        "\n",
        "# 1004385"
      ]
    },
    {
      "cell_type": "code",
      "metadata": {
        "colab": {
          "base_uri": "https://localhost:8080/"
        },
        "id": "s2u1WH2Fq5pE",
        "outputId": "8a0a3763-4376-414e-d98a-57696f677eae"
      },
      "source": [
        "from google.colab import drive\n",
        "drive.mount('/content/drive')"
      ],
      "execution_count": 1,
      "outputs": [
        {
          "output_type": "stream",
          "name": "stdout",
          "text": [
            "Mounted at /content/drive\n"
          ]
        }
      ]
    },
    {
      "cell_type": "code",
      "metadata": {
        "colab": {
          "base_uri": "https://localhost:8080/"
        },
        "id": "3TebZ74ErMGJ",
        "outputId": "26c7271a-3637-4dc2-a203-31ea1bee5a98"
      },
      "source": [
        "!pwd\n",
        "%cd /content/drive/MyDrive/Term\\ 6/CDS\n",
        "!ls"
      ],
      "execution_count": 2,
      "outputs": [
        {
          "output_type": "stream",
          "name": "stdout",
          "text": [
            "/content\n",
            "/content/drive/MyDrive/Term 6/CDS\n",
            " chicago_hotel_reviews.csv  'Lab 2 - Intro_to_pandas.ipynb'\n",
            " data.csv\t\t    'Lab 3a - data handling (questions)'\n",
            " eigenfaces.py\t\t    'Lab 3b - visualisation (questions) 2020'\n",
            "'Lab 1 - Hadoop MapReduce'  'Lab 4 - Regression.ipynb'\n",
            "'Lab 2 - eigenfaces.ipynb'   PyTorchBasics.ipynb\n"
          ]
        }
      ]
    },
    {
      "cell_type": "markdown",
      "metadata": {
        "id": "benD2nFysfJQ"
      },
      "source": [
        "# Exercise 1"
      ]
    },
    {
      "cell_type": "code",
      "metadata": {
        "colab": {
          "base_uri": "https://localhost:8080/"
        },
        "id": "jNfsc4JIriRQ",
        "outputId": "b40089c7-91de-40a9-e20f-4eb5159e5778"
      },
      "source": [
        "import pandas as pd\n",
        "import numpy as np\n",
        "\n",
        "dataframe = pd.read_csv(\"data.csv\", names=[\"X\",\"Y\"])\n",
        "\n",
        "print(dataframe)"
      ],
      "execution_count": 3,
      "outputs": [
        {
          "output_type": "stream",
          "name": "stdout",
          "text": [
            "            X          Y\n",
            "0   32.502345  31.707006\n",
            "1   53.426804  68.777596\n",
            "2   61.530358  62.562382\n",
            "3   47.475640  71.546632\n",
            "4   59.813208  87.230925\n",
            "..        ...        ...\n",
            "95  50.030174  81.536991\n",
            "96  49.239765  72.111832\n",
            "97  50.039576  85.232007\n",
            "98  48.149859  66.224958\n",
            "99  25.128485  53.454394\n",
            "\n",
            "[100 rows x 2 columns]\n"
          ]
        }
      ]
    },
    {
      "cell_type": "code",
      "metadata": {
        "colab": {
          "base_uri": "https://localhost:8080/"
        },
        "id": "WxnBvecAr-9C",
        "outputId": "6df10f04-27ac-4137-c9b8-c4b007fcf5d7"
      },
      "source": [
        "X = dataframe.iloc[:,0]\n",
        "Y = dataframe.iloc[:,1]\n",
        "\n",
        "print(X)\n",
        "print(Y)"
      ],
      "execution_count": 4,
      "outputs": [
        {
          "output_type": "stream",
          "name": "stdout",
          "text": [
            "0     32.502345\n",
            "1     53.426804\n",
            "2     61.530358\n",
            "3     47.475640\n",
            "4     59.813208\n",
            "        ...    \n",
            "95    50.030174\n",
            "96    49.239765\n",
            "97    50.039576\n",
            "98    48.149859\n",
            "99    25.128485\n",
            "Name: X, Length: 100, dtype: float64\n",
            "0     31.707006\n",
            "1     68.777596\n",
            "2     62.562382\n",
            "3     71.546632\n",
            "4     87.230925\n",
            "        ...    \n",
            "95    81.536991\n",
            "96    72.111832\n",
            "97    85.232007\n",
            "98    66.224958\n",
            "99    53.454394\n",
            "Name: Y, Length: 100, dtype: float64\n"
          ]
        }
      ]
    },
    {
      "cell_type": "code",
      "metadata": {
        "colab": {
          "base_uri": "https://localhost:8080/",
          "height": 606
        },
        "id": "eQqW6dAPAPpr",
        "outputId": "59d160e3-d232-4978-8204-3945cc250219"
      },
      "source": [
        "import matplotlib.pyplot as plt\n",
        "plt.figure(figsize=(10,10))\n",
        "plt.scatter(X,Y)\n",
        "plt.xlabel(\"X\")\n",
        "plt.ylabel(\"Y\")\n",
        "plt.show()"
      ],
      "execution_count": 5,
      "outputs": [
        {
          "output_type": "display_data",
          "data": {
            "image/png": "[encoded data removed]",
            "text/plain": [
              "<Figure size 720x720 with 1 Axes>"
            ]
          },
          "metadata": {
            "needs_background": "light"
          }
        }
      ]
    },
    {
      "cell_type": "code",
      "metadata": {
        "colab": {
          "base_uri": "https://localhost:8080/"
        },
        "id": "BaYXVp3Dsqfi",
        "outputId": "c979250e-ba27-4b43-e83b-8f21d7d7b6b9"
      },
      "source": [
        "Y_bar = sum(Y)/ len(Y)\n",
        "print(f\"Y bar is: {Y_bar}\")\n",
        "\n",
        "x_bar = sum(X)/ len(X)\n",
        "print(f\"x bar is: {x_bar}\")"
      ],
      "execution_count": 6,
      "outputs": [
        {
          "output_type": "stream",
          "name": "stdout",
          "text": [
            "Y bar is: 72.73505055368646\n",
            "x bar is: 48.95834146155939\n"
          ]
        }
      ]
    },
    {
      "cell_type": "code",
      "metadata": {
        "colab": {
          "base_uri": "https://localhost:8080/"
        },
        "id": "uJ7zvVegvr-R",
        "outputId": "63b37bad-6d8a-4e38-de8b-783edec3346c"
      },
      "source": [
        "top_value = 0\n",
        "btm_value = 0\n",
        "\n",
        "for i in range(len(Y)):\n",
        "  top_value += X[i] * Y[i] - Y_bar * X[i]\n",
        "  btm_value += X[i]**2 - x_bar * X[i]\n",
        "\n",
        "B = top_value/btm_value\n",
        "print(f\"B is {B}\")\n",
        "\n",
        "a = Y_bar - B * x_bar\n",
        "print(f\"a is {a}\")"
      ],
      "execution_count": 7,
      "outputs": [
        {
          "output_type": "stream",
          "name": "stdout",
          "text": [
            "B is 1.3224310227553835\n",
            "a is 7.991020982269177\n"
          ]
        }
      ]
    },
    {
      "cell_type": "code",
      "metadata": {
        "colab": {
          "base_uri": "https://localhost:8080/",
          "height": 295
        },
        "id": "Il-CV_CFEWwU",
        "outputId": "4ad8cf76-8014-48a0-c301-20208624ae45"
      },
      "source": [
        "def viz_graph(a, B, X, Y, title=None):\n",
        "  Y_p = B*X + a\n",
        "\n",
        "  plt.scatter(X, Y) \n",
        "  plt.plot([min(X), max(X)], [min(Y_p), max(Y_p)], color='red', linewidth=3) \n",
        "  plt.xlabel(\"X\")\n",
        "  plt.ylabel(\"Y\")\n",
        "  plt.title(title)\n",
        "  plt.show()\n",
        "\n",
        "viz_graph(a, B, X, Y, title=\"Normal equation\")"
      ],
      "execution_count": 8,
      "outputs": [
        {
          "output_type": "display_data",
          "data": {
            "image/png": "[encoded data removed]",
            "text/plain": [
              "<Figure size 432x288 with 1 Axes>"
            ]
          },
          "metadata": {
            "needs_background": "light"
          }
        }
      ]
    },
    {
      "cell_type": "code",
      "metadata": {
        "colab": {
          "base_uri": "https://localhost:8080/"
        },
        "id": "OZsZLCgzyA-a",
        "outputId": "6e98fd72-ad30-401e-b7a6-c2e61154ae47"
      },
      "source": [
        "def update_weights(m, c, n, L=0.0001):\n",
        "\n",
        "  D_m = 0\n",
        "  D_c = 0\n",
        "  for i in range(n):\n",
        "    D_m += 2/n * (Y[i] - m*X[i] - c) * -X[i]\n",
        "    D_c += 2/n * (Y[i] - m*X[i] - c) * -1\n",
        "\n",
        "  m -= L * D_m \n",
        "  c -= L * D_c\n",
        "\n",
        "  return m,c\n",
        "\n",
        "m = 0\n",
        "c = 0\n",
        "for i in range(100):\n",
        "  old_m, old_c = m, c\n",
        "  m , c = update_weights(m , c, len(Y))\n",
        "  print(f\"Updated m={m} and c={c}\")\n",
        "\n",
        "  if abs(m - old_m) < 0.0001 and abs(c - old_c) < 0.0001:\n",
        "    break\n",
        "print(f\"Final m={m} and c={c}\")\n"
      ],
      "execution_count": 9,
      "outputs": [
        {
          "output_type": "stream",
          "name": "stdout",
          "text": [
            "Updated m=0.7370702973591053 and c=0.014547010110737297\n",
            "Updated m=1.1067954543515157 and c=0.02187396295959641\n",
            "Updated m=1.2922546649131115 and c=0.025579224321293136\n",
            "Updated m=1.3852832556512449 and c=0.027467789559144355\n",
            "Updated m=1.4319472323843203 and c=0.028445071981738963\n",
            "Updated m=1.4553540088980408 and c=0.02896524076647862\n",
            "Updated m=1.4670946177201354 and c=0.0292561141260467\n",
            "Updated m=1.4729832982243762 and c=0.029431969163807126\n",
            "Updated m=1.4759365618962286 and c=0.02955012902438307\n",
            "Updated m=1.47741737554838 and c=0.029639347874732387\n",
            "Updated m=1.4781595857319894 and c=0.02971404924522704\n",
            "Updated m=1.4785313011122556 and c=0.029781468199526515\n",
            "Updated m=1.4787171706313593 and c=0.02984523395633241\n",
            "Updated m=1.47880981702566 and c=0.029907166987310232\n",
            "Final m=1.47880981702566 and c=0.029907166987310232\n"
          ]
        }
      ]
    },
    {
      "cell_type": "code",
      "metadata": {
        "colab": {
          "base_uri": "https://localhost:8080/",
          "height": 295
        },
        "id": "AKkl5CQPE-PH",
        "outputId": "ed985d0f-2d01-48e5-e211-cfc858c7655c"
      },
      "source": [
        "viz_graph(c, m, X, Y, title=\"Gradient Descent\")"
      ],
      "execution_count": 10,
      "outputs": [
        {
          "output_type": "display_data",
          "data": {
            "image/png": "[encoded data removed]",
            "text/plain": [
              "<Figure size 432x288 with 1 Axes>"
            ]
          },
          "metadata": {
            "needs_background": "light"
          }
        }
      ]
    },
    {
      "cell_type": "code",
      "metadata": {
        "colab": {
          "base_uri": "https://localhost:8080/",
          "height": 278
        },
        "id": "FWF6Lmp8JnI3",
        "outputId": "afe1d0a2-26b1-44bd-c31c-d31b81437bce"
      },
      "source": [
        "Y_p_1 = B*X + a\n",
        "Y_p_2 = m*X + c\n",
        "\n",
        "plt.scatter(X, Y) \n",
        "plt.plot([min(X), max(X)], [min(Y_p_1), max(Y_p_1)], color='red', linewidth=3, label=\"Normal Equaation\") \n",
        "plt.plot([min(X), max(X)], [min(Y_p_2), max(Y_p_2)], color='green', linewidth=3, label=\"Gradient Descent\") \n",
        "plt.xlabel(\"X\")\n",
        "plt.ylabel(\"Y\")\n",
        "plt.legend()\n",
        "plt.show()"
      ],
      "execution_count": 11,
      "outputs": [
        {
          "output_type": "display_data",
          "data": {
            "image/png": "[encoded data removed]",
            "text/plain": [
              "<Figure size 432x288 with 1 Axes>"
            ]
          },
          "metadata": {
            "needs_background": "light"
          }
        }
      ]
    },
    {
      "cell_type": "markdown",
      "metadata": {
        "id": "x8EqL76V5nKf"
      },
      "source": [
        "# Exercise 2"
      ]
    },
    {
      "cell_type": "code",
      "metadata": {
        "colab": {
          "base_uri": "https://localhost:8080/"
        },
        "id": "Y-ULS-xC5N-p",
        "outputId": "90c08894-19d9-4fa3-da93-3190019dad3b"
      },
      "source": [
        "dataframe_2 = pd.read_csv(\"chicago_hotel_reviews.csv\")\n",
        "\n",
        "print(dataframe_2)"
      ],
      "execution_count": 12,
      "outputs": [
        {
          "output_type": "stream",
          "name": "stdout",
          "text": [
            "     Unnamed: 0  ...    rating\n",
            "0             0  ...  4.672131\n",
            "1             1  ...  4.601329\n",
            "2             2  ...  4.696296\n",
            "3             3  ...  4.595455\n",
            "4             4  ...  4.645000\n",
            "..          ...  ...       ...\n",
            "152         152  ...  1.000000\n",
            "153         153  ...  1.850000\n",
            "154         154  ...  1.700000\n",
            "155         155  ...  1.000000\n",
            "156         156  ... -1.000000\n",
            "\n",
            "[157 rows x 4 columns]\n"
          ]
        }
      ]
    },
    {
      "cell_type": "code",
      "metadata": {
        "colab": {
          "base_uri": "https://localhost:8080/"
        },
        "id": "fJ3QX8X15sQP",
        "outputId": "88889130-4181-449a-b650-1fe1e6e83886"
      },
      "source": [
        "x = dataframe_2.iloc[:,:3]\n",
        "rating = dataframe_2.iloc[:,3]\n",
        "\n",
        "print(x)\n",
        "print(rating)"
      ],
      "execution_count": 13,
      "outputs": [
        {
          "output_type": "stream",
          "name": "stdout",
          "text": [
            "     Unnamed: 0  ...                                             review\n",
            "0             0  ...  \\tWonderful\\tI had a sore throat and the hotel...\n",
            "1             1  ...  Nov 20 2009 \\tDidn't want to check out...\\tPer...\n",
            "2             2  ...  \\tWOW!!\\tGreat hotel! Stayed there with my wif...\n",
            "3             3  ...  \\tStaff Went Above \\tWhile waiting for our gue...\n",
            "4             4  ...  \\tWonderful Hotel Will Definately Stay Here Ag...\n",
            "..          ...  ...                                                ...\n",
            "152         152  ...  Nov 9 2009 \\tDon't Stay Here\\tI live across th...\n",
            "153         153  ...  Oct 14 2009 \\tBates Motel\\tI've stayed at some...\n",
            "154         154  ...  Sep 21 2009 \\tSlum\\tNot only are the rooms jac...\n",
            "155         155  ...  Feb 9 2009\\tNasty business going on in this ro...\n",
            "156         156  ...                                        placeholder\n",
            "\n",
            "[157 rows x 3 columns]\n",
            "0      4.672131\n",
            "1      4.601329\n",
            "2      4.696296\n",
            "3      4.595455\n",
            "4      4.645000\n",
            "         ...   \n",
            "152    1.000000\n",
            "153    1.850000\n",
            "154    1.700000\n",
            "155    1.000000\n",
            "156   -1.000000\n",
            "Name: rating, Length: 157, dtype: float64\n"
          ]
        }
      ]
    },
    {
      "cell_type": "code",
      "metadata": {
        "id": "lqJ53LLbd3dk"
      },
      "source": [
        "# Split data into train and test\n",
        "from sklearn.model_selection import train_test_split\n",
        "# X_train, X_test, y_train, y_test = train_test_split(review, rating,test_size=0.2)\n",
        "X_train, X_test, y_train, y_test = train_test_split(x, rating, test_size=0.2)"
      ],
      "execution_count": 14,
      "outputs": []
    },
    {
      "cell_type": "code",
      "metadata": {
        "id": "a-Qi5QKCiZya"
      },
      "source": [
        "review_train = X_train[\"review\"]\n",
        "review_test = X_test[\"review\"]\n",
        "\n",
        "# review_train\n",
        "# review_test"
      ],
      "execution_count": 15,
      "outputs": []
    },
    {
      "cell_type": "code",
      "metadata": {
        "colab": {
          "base_uri": "https://localhost:8080/"
        },
        "id": "0_0BrGol4-wY",
        "outputId": "d1130752-7598-4e1d-c5e0-0263528da43c"
      },
      "source": [
        "from sklearn.feature_extraction.text import TfidfVectorizer \n",
        " \n",
        "tfidf_vec = TfidfVectorizer() \n",
        " \n",
        "tfidf_vec_matrix = tfidf_vec.fit_transform(review_train)\n",
        "\n",
        "tfidf_array = tfidf_vec_matrix.toarray()\n",
        "\n",
        "tfidf_tokens = tfidf_vec.get_feature_names()\n",
        "\n",
        "tfidf_dataframe = pd.DataFrame(data = tfidf_array, columns = tfidf_tokens)\n",
        "\n",
        "# print(tfidf_dataframe.apply(lambda col: col.unique()))\n",
        "print(tfidf_dataframe)"
      ],
      "execution_count": 16,
      "outputs": [
        {
          "output_type": "stream",
          "name": "stdout",
          "text": [
            "      00        10       100  105  10min  ...      your  yourself  zephyr  zero  zoo\n",
            "0    0.0  0.000000  0.000000  0.0    0.0  ...  0.000000       0.0     0.0   0.0  0.0\n",
            "1    0.0  0.000000  0.000000  0.0    0.0  ...  0.000000       0.0     0.0   0.0  0.0\n",
            "2    0.0  0.000000  0.000000  0.0    0.0  ...  0.000000       0.0     0.0   0.0  0.0\n",
            "3    0.0  0.000000  0.000000  0.0    0.0  ...  0.000000       0.0     0.0   0.0  0.0\n",
            "4    0.0  0.000000  0.000000  0.0    0.0  ...  0.000000       0.0     0.0   0.0  0.0\n",
            "..   ...       ...       ...  ...    ...  ...       ...       ...     ...   ...  ...\n",
            "120  0.0  0.000000  0.000000  0.0    0.0  ...  0.000000       0.0     0.0   0.0  0.0\n",
            "121  0.0  0.000000  0.000000  0.0    0.0  ...  0.000000       0.0     0.0   0.0  0.0\n",
            "122  0.0  0.022406  0.030479  0.0    0.0  ...  0.102842       0.0     0.0   0.0  0.0\n",
            "123  0.0  0.000000  0.000000  0.0    0.0  ...  0.000000       0.0     0.0   0.0  0.0\n",
            "124  0.0  0.000000  0.000000  0.0    0.0  ...  0.000000       0.0     0.0   0.0  0.0\n",
            "\n",
            "[125 rows x 2726 columns]\n"
          ]
        }
      ]
    },
    {
      "cell_type": "code",
      "metadata": {
        "colab": {
          "base_uri": "https://localhost:8080/",
          "height": 1000
        },
        "id": "DrfwiQThTkjF",
        "outputId": "33b1b280-979b-4fd9-daa6-0facb2631b1b"
      },
      "source": [
        "from sklearn.linear_model import LinearRegression\n",
        "from sklearn.pipeline import Pipeline\n",
        "\n",
        "pipeline = Pipeline([('tfidf', TfidfVectorizer() ), ('linear reg', LinearRegression())])\n",
        "\n",
        "# Fit and predict regressor\n",
        "pipeline.fit(review_train, y_train)\n",
        "predicted = pipeline.predict(review_test)\n",
        "\n",
        "prediction_df = pd.DataFrame({\"Actual\": y_test, \"Predicted\":predicted})\n",
        "prediction_df"
      ],
      "execution_count": 17,
      "outputs": [
        {
          "output_type": "execute_result",
          "data": {
            "text/html": [
              "<div>\n",
              "<style scoped>\n",
              "    .dataframe tbody tr th:only-of-type {\n",
              "        vertical-align: middle;\n",
              "    }\n",
              "\n",
              "    .dataframe tbody tr th {\n",
              "        vertical-align: top;\n",
              "    }\n",
              "\n",
              "    .dataframe thead th {\n",
              "        text-align: right;\n",
              "    }\n",
              "</style>\n",
              "<table border=\"1\" class=\"dataframe\">\n",
              "  <thead>\n",
              "    <tr style=\"text-align: right;\">\n",
              "      <th></th>\n",
              "      <th>Actual</th>\n",
              "      <th>Predicted</th>\n",
              "    </tr>\n",
              "  </thead>\n",
              "  <tbody>\n",
              "    <tr>\n",
              "      <th>76</th>\n",
              "      <td>3.950311</td>\n",
              "      <td>4.126650</td>\n",
              "    </tr>\n",
              "    <tr>\n",
              "      <th>61</th>\n",
              "      <td>4.472727</td>\n",
              "      <td>3.876019</td>\n",
              "    </tr>\n",
              "    <tr>\n",
              "      <th>112</th>\n",
              "      <td>3.307692</td>\n",
              "      <td>3.542086</td>\n",
              "    </tr>\n",
              "    <tr>\n",
              "      <th>34</th>\n",
              "      <td>4.257807</td>\n",
              "      <td>4.315561</td>\n",
              "    </tr>\n",
              "    <tr>\n",
              "      <th>68</th>\n",
              "      <td>4.286667</td>\n",
              "      <td>3.728382</td>\n",
              "    </tr>\n",
              "    <tr>\n",
              "      <th>47</th>\n",
              "      <td>5.000000</td>\n",
              "      <td>4.204578</td>\n",
              "    </tr>\n",
              "    <tr>\n",
              "      <th>124</th>\n",
              "      <td>4.600000</td>\n",
              "      <td>0.966667</td>\n",
              "    </tr>\n",
              "    <tr>\n",
              "      <th>83</th>\n",
              "      <td>3.861794</td>\n",
              "      <td>3.752331</td>\n",
              "    </tr>\n",
              "    <tr>\n",
              "      <th>94</th>\n",
              "      <td>3.833333</td>\n",
              "      <td>3.959742</td>\n",
              "    </tr>\n",
              "    <tr>\n",
              "      <th>145</th>\n",
              "      <td>3.257143</td>\n",
              "      <td>3.456532</td>\n",
              "    </tr>\n",
              "    <tr>\n",
              "      <th>142</th>\n",
              "      <td>-1.000000</td>\n",
              "      <td>0.966667</td>\n",
              "    </tr>\n",
              "    <tr>\n",
              "      <th>31</th>\n",
              "      <td>4.352941</td>\n",
              "      <td>3.905765</td>\n",
              "    </tr>\n",
              "    <tr>\n",
              "      <th>81</th>\n",
              "      <td>4.900000</td>\n",
              "      <td>0.966667</td>\n",
              "    </tr>\n",
              "    <tr>\n",
              "      <th>137</th>\n",
              "      <td>3.600000</td>\n",
              "      <td>0.966667</td>\n",
              "    </tr>\n",
              "    <tr>\n",
              "      <th>152</th>\n",
              "      <td>1.000000</td>\n",
              "      <td>3.205051</td>\n",
              "    </tr>\n",
              "    <tr>\n",
              "      <th>74</th>\n",
              "      <td>4.118519</td>\n",
              "      <td>3.676146</td>\n",
              "    </tr>\n",
              "    <tr>\n",
              "      <th>110</th>\n",
              "      <td>3.920000</td>\n",
              "      <td>3.548951</td>\n",
              "    </tr>\n",
              "    <tr>\n",
              "      <th>60</th>\n",
              "      <td>4.208547</td>\n",
              "      <td>3.594256</td>\n",
              "    </tr>\n",
              "    <tr>\n",
              "      <th>144</th>\n",
              "      <td>1.600000</td>\n",
              "      <td>0.966667</td>\n",
              "    </tr>\n",
              "    <tr>\n",
              "      <th>70</th>\n",
              "      <td>4.087324</td>\n",
              "      <td>3.869670</td>\n",
              "    </tr>\n",
              "    <tr>\n",
              "      <th>33</th>\n",
              "      <td>4.447619</td>\n",
              "      <td>3.734235</td>\n",
              "    </tr>\n",
              "    <tr>\n",
              "      <th>16</th>\n",
              "      <td>4.534641</td>\n",
              "      <td>4.342138</td>\n",
              "    </tr>\n",
              "    <tr>\n",
              "      <th>4</th>\n",
              "      <td>4.645000</td>\n",
              "      <td>4.352301</td>\n",
              "    </tr>\n",
              "    <tr>\n",
              "      <th>125</th>\n",
              "      <td>4.600000</td>\n",
              "      <td>3.406716</td>\n",
              "    </tr>\n",
              "    <tr>\n",
              "      <th>133</th>\n",
              "      <td>-1.000000</td>\n",
              "      <td>0.966667</td>\n",
              "    </tr>\n",
              "    <tr>\n",
              "      <th>77</th>\n",
              "      <td>4.085000</td>\n",
              "      <td>3.682107</td>\n",
              "    </tr>\n",
              "    <tr>\n",
              "      <th>88</th>\n",
              "      <td>3.939130</td>\n",
              "      <td>3.977271</td>\n",
              "    </tr>\n",
              "    <tr>\n",
              "      <th>150</th>\n",
              "      <td>2.288889</td>\n",
              "      <td>3.381359</td>\n",
              "    </tr>\n",
              "    <tr>\n",
              "      <th>64</th>\n",
              "      <td>4.084848</td>\n",
              "      <td>3.873747</td>\n",
              "    </tr>\n",
              "    <tr>\n",
              "      <th>146</th>\n",
              "      <td>1.200000</td>\n",
              "      <td>0.966667</td>\n",
              "    </tr>\n",
              "    <tr>\n",
              "      <th>59</th>\n",
              "      <td>4.066667</td>\n",
              "      <td>3.869814</td>\n",
              "    </tr>\n",
              "    <tr>\n",
              "      <th>9</th>\n",
              "      <td>4.624335</td>\n",
              "      <td>4.440431</td>\n",
              "    </tr>\n",
              "  </tbody>\n",
              "</table>\n",
              "</div>"
            ],
            "text/plain": [
              "       Actual  Predicted\n",
              "76   3.950311   4.126650\n",
              "61   4.472727   3.876019\n",
              "112  3.307692   3.542086\n",
              "34   4.257807   4.315561\n",
              "68   4.286667   3.728382\n",
              "47   5.000000   4.204578\n",
              "124  4.600000   0.966667\n",
              "83   3.861794   3.752331\n",
              "94   3.833333   3.959742\n",
              "145  3.257143   3.456532\n",
              "142 -1.000000   0.966667\n",
              "31   4.352941   3.905765\n",
              "81   4.900000   0.966667\n",
              "137  3.600000   0.966667\n",
              "152  1.000000   3.205051\n",
              "74   4.118519   3.676146\n",
              "110  3.920000   3.548951\n",
              "60   4.208547   3.594256\n",
              "144  1.600000   0.966667\n",
              "70   4.087324   3.869670\n",
              "33   4.447619   3.734235\n",
              "16   4.534641   4.342138\n",
              "4    4.645000   4.352301\n",
              "125  4.600000   3.406716\n",
              "133 -1.000000   0.966667\n",
              "77   4.085000   3.682107\n",
              "88   3.939130   3.977271\n",
              "150  2.288889   3.381359\n",
              "64   4.084848   3.873747\n",
              "146  1.200000   0.966667\n",
              "59   4.066667   3.869814\n",
              "9    4.624335   4.440431"
            ]
          },
          "metadata": {},
          "execution_count": 17
        }
      ]
    },
    {
      "cell_type": "code",
      "metadata": {
        "colab": {
          "base_uri": "https://localhost:8080/"
        },
        "id": "lRlCVY-4IFy8",
        "outputId": "25b55b3e-34b0-4238-a616-6ab8c044a078"
      },
      "source": [
        "# Calculate MSE\n",
        "from sklearn.metrics import accuracy_score, mean_squared_error\n",
        "print(f\"MSE is {mean_squared_error(y_test, predicted)}\")"
      ],
      "execution_count": 18,
      "outputs": [
        {
          "output_type": "stream",
          "name": "stdout",
          "text": [
            "MSE is 1.706424923181797\n"
          ]
        }
      ]
    },
    {
      "cell_type": "code",
      "metadata": {
        "colab": {
          "base_uri": "https://localhost:8080/",
          "height": 1000
        },
        "id": "3VTlrKRT8D4H",
        "outputId": "aa2e5d9e-2d8a-4449-afd3-4b7bd98460cb"
      },
      "source": [
        "from sklearn.feature_selection import SelectPercentile, f_regression\n",
        "\n",
        "pipeline_new = Pipeline([('tfidf', TfidfVectorizer() ), ('select percentile', SelectPercentile(f_regression, percentile = 20)), ('linear reg', LinearRegression())])\n",
        "\n",
        "# Fit and predict regressor\n",
        "pipeline_new.fit(review_train, y_train)\n",
        "predicted = pipeline_new.predict(review_test)\n",
        "\n",
        "prediction_df = pd.DataFrame({\"Actual\": y_test, \"Predicted\":predicted})\n",
        "prediction_df"
      ],
      "execution_count": 19,
      "outputs": [
        {
          "output_type": "execute_result",
          "data": {
            "text/html": [
              "<div>\n",
              "<style scoped>\n",
              "    .dataframe tbody tr th:only-of-type {\n",
              "        vertical-align: middle;\n",
              "    }\n",
              "\n",
              "    .dataframe tbody tr th {\n",
              "        vertical-align: top;\n",
              "    }\n",
              "\n",
              "    .dataframe thead th {\n",
              "        text-align: right;\n",
              "    }\n",
              "</style>\n",
              "<table border=\"1\" class=\"dataframe\">\n",
              "  <thead>\n",
              "    <tr style=\"text-align: right;\">\n",
              "      <th></th>\n",
              "      <th>Actual</th>\n",
              "      <th>Predicted</th>\n",
              "    </tr>\n",
              "  </thead>\n",
              "  <tbody>\n",
              "    <tr>\n",
              "      <th>76</th>\n",
              "      <td>3.950311</td>\n",
              "      <td>4.069641</td>\n",
              "    </tr>\n",
              "    <tr>\n",
              "      <th>61</th>\n",
              "      <td>4.472727</td>\n",
              "      <td>3.000479</td>\n",
              "    </tr>\n",
              "    <tr>\n",
              "      <th>112</th>\n",
              "      <td>3.307692</td>\n",
              "      <td>3.247161</td>\n",
              "    </tr>\n",
              "    <tr>\n",
              "      <th>34</th>\n",
              "      <td>4.257807</td>\n",
              "      <td>4.431921</td>\n",
              "    </tr>\n",
              "    <tr>\n",
              "      <th>68</th>\n",
              "      <td>4.286667</td>\n",
              "      <td>3.643203</td>\n",
              "    </tr>\n",
              "    <tr>\n",
              "      <th>47</th>\n",
              "      <td>5.000000</td>\n",
              "      <td>4.031387</td>\n",
              "    </tr>\n",
              "    <tr>\n",
              "      <th>124</th>\n",
              "      <td>4.600000</td>\n",
              "      <td>0.966667</td>\n",
              "    </tr>\n",
              "    <tr>\n",
              "      <th>83</th>\n",
              "      <td>3.861794</td>\n",
              "      <td>3.762590</td>\n",
              "    </tr>\n",
              "    <tr>\n",
              "      <th>94</th>\n",
              "      <td>3.833333</td>\n",
              "      <td>2.994093</td>\n",
              "    </tr>\n",
              "    <tr>\n",
              "      <th>145</th>\n",
              "      <td>3.257143</td>\n",
              "      <td>3.970798</td>\n",
              "    </tr>\n",
              "    <tr>\n",
              "      <th>142</th>\n",
              "      <td>-1.000000</td>\n",
              "      <td>0.966667</td>\n",
              "    </tr>\n",
              "    <tr>\n",
              "      <th>31</th>\n",
              "      <td>4.352941</td>\n",
              "      <td>3.728133</td>\n",
              "    </tr>\n",
              "    <tr>\n",
              "      <th>81</th>\n",
              "      <td>4.900000</td>\n",
              "      <td>0.966667</td>\n",
              "    </tr>\n",
              "    <tr>\n",
              "      <th>137</th>\n",
              "      <td>3.600000</td>\n",
              "      <td>0.966667</td>\n",
              "    </tr>\n",
              "    <tr>\n",
              "      <th>152</th>\n",
              "      <td>1.000000</td>\n",
              "      <td>3.244305</td>\n",
              "    </tr>\n",
              "    <tr>\n",
              "      <th>74</th>\n",
              "      <td>4.118519</td>\n",
              "      <td>3.674125</td>\n",
              "    </tr>\n",
              "    <tr>\n",
              "      <th>110</th>\n",
              "      <td>3.920000</td>\n",
              "      <td>3.673674</td>\n",
              "    </tr>\n",
              "    <tr>\n",
              "      <th>60</th>\n",
              "      <td>4.208547</td>\n",
              "      <td>3.781715</td>\n",
              "    </tr>\n",
              "    <tr>\n",
              "      <th>144</th>\n",
              "      <td>1.600000</td>\n",
              "      <td>0.966667</td>\n",
              "    </tr>\n",
              "    <tr>\n",
              "      <th>70</th>\n",
              "      <td>4.087324</td>\n",
              "      <td>3.851947</td>\n",
              "    </tr>\n",
              "    <tr>\n",
              "      <th>33</th>\n",
              "      <td>4.447619</td>\n",
              "      <td>3.977499</td>\n",
              "    </tr>\n",
              "    <tr>\n",
              "      <th>16</th>\n",
              "      <td>4.534641</td>\n",
              "      <td>4.258852</td>\n",
              "    </tr>\n",
              "    <tr>\n",
              "      <th>4</th>\n",
              "      <td>4.645000</td>\n",
              "      <td>3.729426</td>\n",
              "    </tr>\n",
              "    <tr>\n",
              "      <th>125</th>\n",
              "      <td>4.600000</td>\n",
              "      <td>3.677500</td>\n",
              "    </tr>\n",
              "    <tr>\n",
              "      <th>133</th>\n",
              "      <td>-1.000000</td>\n",
              "      <td>0.966667</td>\n",
              "    </tr>\n",
              "    <tr>\n",
              "      <th>77</th>\n",
              "      <td>4.085000</td>\n",
              "      <td>4.159053</td>\n",
              "    </tr>\n",
              "    <tr>\n",
              "      <th>88</th>\n",
              "      <td>3.939130</td>\n",
              "      <td>3.669319</td>\n",
              "    </tr>\n",
              "    <tr>\n",
              "      <th>150</th>\n",
              "      <td>2.288889</td>\n",
              "      <td>3.282575</td>\n",
              "    </tr>\n",
              "    <tr>\n",
              "      <th>64</th>\n",
              "      <td>4.084848</td>\n",
              "      <td>3.682383</td>\n",
              "    </tr>\n",
              "    <tr>\n",
              "      <th>146</th>\n",
              "      <td>1.200000</td>\n",
              "      <td>0.966667</td>\n",
              "    </tr>\n",
              "    <tr>\n",
              "      <th>59</th>\n",
              "      <td>4.066667</td>\n",
              "      <td>3.895985</td>\n",
              "    </tr>\n",
              "    <tr>\n",
              "      <th>9</th>\n",
              "      <td>4.624335</td>\n",
              "      <td>3.687437</td>\n",
              "    </tr>\n",
              "  </tbody>\n",
              "</table>\n",
              "</div>"
            ],
            "text/plain": [
              "       Actual  Predicted\n",
              "76   3.950311   4.069641\n",
              "61   4.472727   3.000479\n",
              "112  3.307692   3.247161\n",
              "34   4.257807   4.431921\n",
              "68   4.286667   3.643203\n",
              "47   5.000000   4.031387\n",
              "124  4.600000   0.966667\n",
              "83   3.861794   3.762590\n",
              "94   3.833333   2.994093\n",
              "145  3.257143   3.970798\n",
              "142 -1.000000   0.966667\n",
              "31   4.352941   3.728133\n",
              "81   4.900000   0.966667\n",
              "137  3.600000   0.966667\n",
              "152  1.000000   3.244305\n",
              "74   4.118519   3.674125\n",
              "110  3.920000   3.673674\n",
              "60   4.208547   3.781715\n",
              "144  1.600000   0.966667\n",
              "70   4.087324   3.851947\n",
              "33   4.447619   3.977499\n",
              "16   4.534641   4.258852\n",
              "4    4.645000   3.729426\n",
              "125  4.600000   3.677500\n",
              "133 -1.000000   0.966667\n",
              "77   4.085000   4.159053\n",
              "88   3.939130   3.669319\n",
              "150  2.288889   3.282575\n",
              "64   4.084848   3.682383\n",
              "146  1.200000   0.966667\n",
              "59   4.066667   3.895985\n",
              "9    4.624335   3.687437"
            ]
          },
          "metadata": {},
          "execution_count": 19
        }
      ]
    },
    {
      "cell_type": "code",
      "metadata": {
        "id": "apdj0MKYeQfu",
        "colab": {
          "base_uri": "https://localhost:8080/"
        },
        "outputId": "7a51669b-90f8-4503-b43b-4b8c90c8022c"
      },
      "source": [
        "# Calculate MSE\n",
        "from sklearn.metrics import accuracy_score, mean_squared_error\n",
        "print(f\"MSE is {mean_squared_error(y_test, predicted)}\")"
      ],
      "execution_count": 20,
      "outputs": [
        {
          "output_type": "stream",
          "name": "stdout",
          "text": [
            "MSE is 1.8322879839685293\n"
          ]
        }
      ]
    }
  ]
}